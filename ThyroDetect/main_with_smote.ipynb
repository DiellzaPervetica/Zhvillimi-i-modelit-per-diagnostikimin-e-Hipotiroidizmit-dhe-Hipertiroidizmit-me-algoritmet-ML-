{
 "cells": [
  {
   "cell_type": "code",
   "execution_count": null,
   "id": "dd744430",
   "metadata": {},
   "outputs": [],
   "source": [
    "import pandas as pd\n",
    "from tabulate import tabulate\n",
    "from sklearn.preprocessing import LabelEncoder\n",
    "import seaborn as sns\n",
    "import matplotlib.pyplot as plt\n",
    "import numpy as np\n",
    "from sklearn.model_selection import train_test_split\n",
    "from sklearn.ensemble import RandomForestClassifier\n",
    "from sklearn.metrics import classification_report\n",
    "import joblib\n",
    "import tkinter as tk\n",
    "from tkinter import ttk, messagebox\n",
    "from xgboost import XGBClassifier\n",
    "from sklearn.preprocessing import LabelEncoder\n",
    "from imblearn.over_sampling import SMOTE"
   ]
  },
  {
   "cell_type": "code",
   "execution_count": 2,
   "id": "7be39927",
   "metadata": {},
   "outputs": [
    {
     "name": "stdout",
     "output_type": "stream",
     "text": [
      "╭────┬───────┬───────┬────────────────┬──────────────────────┬─────────────────────────────┬────────┬────────────┬───────────────────┬──────────────────┬─────────────────────┬──────────────────────┬───────────┬──────────┬─────────┬─────────────────┬─────────┬────────────────┬───────┬───────────────┬──────┬────────────────┬───────┬────────────────┬───────┬────────────────┬───────┬────────────────┬───────┬───────────────────┬───────────────╮\n",
      "│    │   age │ sex   │ on thyroxine   │ query on thyroxine   │ on antithyroid medication   │ sick   │ pregnant   │ thyroid surgery   │ I131 treatment   │ query hypothyroid   │ query hyperthyroid   │ lithium   │ goitre   │ tumor   │ hypopituitary   │ psych   │ TSH measured   │   TSH │ T3 measured   │ T3   │ TT4 measured   │   TT4 │ T4U measured   │ T4U   │ FTI measured   │ FTI   │ TBG measured   │ TBG   │ referral source   │ binaryClass   │\n",
      "├────┼───────┼───────┼────────────────┼──────────────────────┼─────────────────────────────┼────────┼────────────┼───────────────────┼──────────────────┼─────────────────────┼──────────────────────┼───────────┼──────────┼─────────┼─────────────────┼─────────┼────────────────┼───────┼───────────────┼──────┼────────────────┼───────┼────────────────┼───────┼────────────────┼───────┼────────────────┼───────┼───────────────────┼───────────────┤\n",
      "│  0 │    41 │ F     │ f              │ f                    │ f                           │ f      │ f          │ f                 │ f                │ f                   │ f                    │ f         │ f        │ f       │ f               │ f       │ t              │  1.3  │ t             │ 2.5  │ t              │   125 │ t              │ 1.14  │ t              │ 109   │ f              │ ?     │ SVHC              │ P             │\n",
      "│  1 │    23 │ F     │ f              │ f                    │ f                           │ f      │ f          │ f                 │ f                │ f                   │ f                    │ f         │ f        │ f       │ f               │ f       │ t              │  4.1  │ t             │ 2    │ t              │   102 │ f              │ ?     │ f              │ ?     │ f              │ ?     │ other             │ P             │\n",
      "│  2 │    46 │ M     │ f              │ f                    │ f                           │ f      │ f          │ f                 │ f                │ f                   │ f                    │ f         │ f        │ f       │ f               │ f       │ t              │  0.98 │ f             │ ?    │ t              │   109 │ t              │ 0.91  │ t              │ 120   │ f              │ ?     │ other             │ P             │\n",
      "│  3 │    70 │ F     │ t              │ f                    │ f                           │ f      │ f          │ f                 │ f                │ f                   │ f                    │ f         │ f        │ f       │ f               │ f       │ t              │  0.16 │ t             │ 1.9  │ t              │   175 │ f              │ ?     │ f              │ ?     │ f              │ ?     │ other             │ P             │\n",
      "│  4 │    70 │ F     │ f              │ f                    │ f                           │ f      │ f          │ f                 │ f                │ f                   │ f                    │ f         │ f        │ f       │ f               │ f       │ t              │  0.72 │ t             │ 1.2  │ t              │    61 │ t              │ 0.87  │ t              │ 70    │ f              │ ?     │ SVI               │ P             │\n",
      "╰────┴───────┴───────┴────────────────┴──────────────────────┴─────────────────────────────┴────────┴────────────┴───────────────────┴──────────────────┴─────────────────────┴──────────────────────┴───────────┴──────────┴─────────┴─────────────────┴─────────┴────────────────┴───────┴───────────────┴──────┴────────────────┴───────┴────────────────┴───────┴────────────────┴───────┴────────────────┴───────┴───────────────────┴───────────────╯\n",
      "╭──────┬───────┬───────┬────────────────┬──────────────────────┬─────────────────────────────┬────────┬────────────┬───────────────────┬──────────────────┬─────────────────────┬──────────────────────┬───────────┬──────────┬─────────┬─────────────────┬─────────┬────────────────┬───────┬───────────────┬──────┬────────────────┬───────┬────────────────┬───────┬────────────────┬───────┬────────────────┬───────┬───────────────────┬───────────────╮\n",
      "│      │   age │ sex   │ on thyroxine   │ query on thyroxine   │ on antithyroid medication   │ sick   │ pregnant   │ thyroid surgery   │ I131 treatment   │ query hypothyroid   │ query hyperthyroid   │ lithium   │ goitre   │ tumor   │ hypopituitary   │ psych   │ TSH measured   │ TSH   │ T3 measured   │ T3   │ TT4 measured   │ TT4   │ T4U measured   │ T4U   │ FTI measured   │ FTI   │ TBG measured   │ TBG   │ referral source   │ binaryClass   │\n",
      "├──────┼───────┼───────┼────────────────┼──────────────────────┼─────────────────────────────┼────────┼────────────┼───────────────────┼──────────────────┼─────────────────────┼──────────────────────┼───────────┼──────────┼─────────┼─────────────────┼─────────┼────────────────┼───────┼───────────────┼──────┼────────────────┼───────┼────────────────┼───────┼────────────────┼───────┼────────────────┼───────┼───────────────────┼───────────────┤\n",
      "│ 3767 │    30 │ F     │ f              │ f                    │ f                           │ f      │ f          │ f                 │ f                │ f                   │ f                    │ f         │ f        │ t       │ f               │ f       │ f              │ ?     │ f             │ ?    │ f              │ ?     │ f              │ ?     │ f              │ ?     │ f              │ ?     │ other             │ P             │\n",
      "│ 3768 │    68 │ F     │ f              │ f                    │ f                           │ f      │ f          │ f                 │ f                │ f                   │ f                    │ f         │ f        │ f       │ f               │ f       │ t              │ 1     │ t             │ 2.1  │ t              │ 124   │ t              │ 1.08  │ t              │ 114   │ f              │ ?     │ SVI               │ P             │\n",
      "│ 3769 │    74 │ F     │ f              │ f                    │ f                           │ f      │ f          │ f                 │ f                │ f                   │ t                    │ f         │ f        │ f       │ f               │ f       │ t              │ 5.1   │ t             │ 1.8  │ t              │ 112   │ t              │ 1.07  │ t              │ 105   │ f              │ ?     │ other             │ P             │\n",
      "│ 3770 │    72 │ M     │ f              │ f                    │ f                           │ f      │ f          │ f                 │ f                │ f                   │ f                    │ f         │ f        │ f       │ f               │ f       │ t              │ 0.7   │ t             │ 2    │ t              │ 82    │ t              │ 0.94  │ t              │ 87    │ f              │ ?     │ SVI               │ P             │\n",
      "│ 3771 │    64 │ F     │ f              │ f                    │ f                           │ f      │ f          │ f                 │ f                │ f                   │ f                    │ f         │ f        │ f       │ f               │ f       │ t              │ 1     │ t             │ 2.2  │ t              │ 99    │ t              │ 1.07  │ t              │ 92    │ f              │ ?     │ other             │ P             │\n",
      "╰──────┴───────┴───────┴────────────────┴──────────────────────┴─────────────────────────────┴────────┴────────────┴───────────────────┴──────────────────┴─────────────────────┴──────────────────────┴───────────┴──────────┴─────────┴─────────────────┴─────────┴────────────────┴───────┴───────────────┴──────┴────────────────┴───────┴────────────────┴───────┴────────────────┴───────┴────────────────┴───────┴───────────────────┴───────────────╯\n"
     ]
    }
   ],
   "source": [
    "df = pd.read_csv('dataset/thyroid_disorder.csv')\n",
    "print(tabulate(df.head(5), headers='keys', tablefmt='rounded_outline'))\n",
    "print(tabulate(df.tail(5), headers='keys', tablefmt='rounded_outline'))"
   ]
  },
  {
   "cell_type": "code",
   "execution_count": 3,
   "id": "5cdb80eb",
   "metadata": {},
   "outputs": [
    {
     "name": "stdout",
     "output_type": "stream",
     "text": [
      "<class 'pandas.core.frame.DataFrame'>\n",
      "RangeIndex: 3772 entries, 0 to 3771\n",
      "Data columns (total 30 columns):\n",
      " #   Column                     Non-Null Count  Dtype \n",
      "---  ------                     --------------  ----- \n",
      " 0   age                        3772 non-null   object\n",
      " 1   sex                        3772 non-null   object\n",
      " 2   on thyroxine               3772 non-null   object\n",
      " 3   query on thyroxine         3772 non-null   object\n",
      " 4   on antithyroid medication  3772 non-null   object\n",
      " 5   sick                       3772 non-null   object\n",
      " 6   pregnant                   3772 non-null   object\n",
      " 7   thyroid surgery            3772 non-null   object\n",
      " 8   I131 treatment             3772 non-null   object\n",
      " 9   query hypothyroid          3772 non-null   object\n",
      " 10  query hyperthyroid         3772 non-null   object\n",
      " 11  lithium                    3772 non-null   object\n",
      " 12  goitre                     3772 non-null   object\n",
      " 13  tumor                      3772 non-null   object\n",
      " 14  hypopituitary              3772 non-null   object\n",
      " 15  psych                      3772 non-null   object\n",
      " 16  TSH measured               3772 non-null   object\n",
      " 17  TSH                        3772 non-null   object\n",
      " 18  T3 measured                3772 non-null   object\n",
      " 19  T3                         3772 non-null   object\n",
      " 20  TT4 measured               3772 non-null   object\n",
      " 21  TT4                        3772 non-null   object\n",
      " 22  T4U measured               3772 non-null   object\n",
      " 23  T4U                        3772 non-null   object\n",
      " 24  FTI measured               3772 non-null   object\n",
      " 25  FTI                        3772 non-null   object\n",
      " 26  TBG measured               3772 non-null   object\n",
      " 27  TBG                        3772 non-null   object\n",
      " 28  referral source            3772 non-null   object\n",
      " 29  binaryClass                3772 non-null   object\n",
      "dtypes: object(30)\n",
      "memory usage: 884.2+ KB\n"
     ]
    }
   ],
   "source": [
    "df.info()"
   ]
  },
  {
   "cell_type": "code",
   "execution_count": 4,
   "id": "2883dfc4",
   "metadata": {},
   "outputs": [],
   "source": [
    "df.drop_duplicates(inplace=True)"
   ]
  },
  {
   "cell_type": "code",
   "execution_count": 5,
   "id": "7b2c4b35",
   "metadata": {},
   "outputs": [
    {
     "name": "stdout",
     "output_type": "stream",
     "text": [
      "<class 'pandas.core.frame.DataFrame'>\n",
      "Index: 3711 entries, 0 to 3771\n",
      "Data columns (total 30 columns):\n",
      " #   Column                     Non-Null Count  Dtype \n",
      "---  ------                     --------------  ----- \n",
      " 0   age                        3711 non-null   object\n",
      " 1   sex                        3711 non-null   object\n",
      " 2   on thyroxine               3711 non-null   object\n",
      " 3   query on thyroxine         3711 non-null   object\n",
      " 4   on antithyroid medication  3711 non-null   object\n",
      " 5   sick                       3711 non-null   object\n",
      " 6   pregnant                   3711 non-null   object\n",
      " 7   thyroid surgery            3711 non-null   object\n",
      " 8   I131 treatment             3711 non-null   object\n",
      " 9   query hypothyroid          3711 non-null   object\n",
      " 10  query hyperthyroid         3711 non-null   object\n",
      " 11  lithium                    3711 non-null   object\n",
      " 12  goitre                     3711 non-null   object\n",
      " 13  tumor                      3711 non-null   object\n",
      " 14  hypopituitary              3711 non-null   object\n",
      " 15  psych                      3711 non-null   object\n",
      " 16  TSH measured               3711 non-null   object\n",
      " 17  TSH                        3711 non-null   object\n",
      " 18  T3 measured                3711 non-null   object\n",
      " 19  T3                         3711 non-null   object\n",
      " 20  TT4 measured               3711 non-null   object\n",
      " 21  TT4                        3711 non-null   object\n",
      " 22  T4U measured               3711 non-null   object\n",
      " 23  T4U                        3711 non-null   object\n",
      " 24  FTI measured               3711 non-null   object\n",
      " 25  FTI                        3711 non-null   object\n",
      " 26  TBG measured               3711 non-null   object\n",
      " 27  TBG                        3711 non-null   object\n",
      " 28  referral source            3711 non-null   object\n",
      " 29  binaryClass                3711 non-null   object\n",
      "dtypes: object(30)\n",
      "memory usage: 898.8+ KB\n"
     ]
    }
   ],
   "source": [
    "df.info()"
   ]
  },
  {
   "cell_type": "code",
   "execution_count": 6,
   "id": "50b31015",
   "metadata": {},
   "outputs": [],
   "source": [
    "kolonat_per_heqje = [\n",
    "    'on thyroxine', 'query on thyroxine', 'on antithyroid medication', 'sick',\n",
    "    'thyroid surgery', 'I131 treatment', 'TBG measured', 'TBG', 'referral source',\n",
    "    'lithium', 'goitre', 'tumor', 'hypopituitary', 'psych', 'T3 measured',\n",
    "    'TT4 measured', 'T4U measured', 'FTI measured', 'TSH measured'\n",
    "]\n",
    "\n",
    "df_pk = df.drop(columns=kolonat_per_heqje, errors='ignore')\n"
   ]
  },
  {
   "cell_type": "code",
   "execution_count": 7,
   "id": "f2b53550",
   "metadata": {},
   "outputs": [
    {
     "name": "stdout",
     "output_type": "stream",
     "text": [
      "╭─────┬───────┬───────┬────────────┬─────────────────────┬──────────────────────┬───────┬──────┬───────┬───────┬───────┬───────────────╮\n",
      "│     │   age │ sex   │ pregnant   │ query hypothyroid   │ query hyperthyroid   │ TSH   │ T3   │ TT4   │ T4U   │ FTI   │ binaryClass   │\n",
      "├─────┼───────┼───────┼────────────┼─────────────────────┼──────────────────────┼───────┼──────┼───────┼───────┼───────┼───────────────┤\n",
      "│   0 │    41 │ F     │ f          │ f                   │ f                    │ 1.3   │ 2.5  │ 125   │ 1.14  │ 109   │ P             │\n",
      "│   1 │    23 │ F     │ f          │ f                   │ f                    │ 4.1   │ 2    │ 102   │ ?     │ ?     │ P             │\n",
      "│   2 │    46 │ M     │ f          │ f                   │ f                    │ 0.98  │ ?    │ 109   │ 0.91  │ 120   │ P             │\n",
      "│   3 │    70 │ F     │ f          │ f                   │ f                    │ 0.16  │ 1.9  │ 175   │ ?     │ ?     │ P             │\n",
      "│   4 │    70 │ F     │ f          │ f                   │ f                    │ 0.72  │ 1.2  │ 61    │ 0.87  │ 70    │ P             │\n",
      "│   5 │    18 │ F     │ f          │ f                   │ f                    │ 0.03  │ ?    │ 183   │ 1.3   │ 141   │ P             │\n",
      "│   6 │    59 │ F     │ f          │ f                   │ f                    │ ?     │ ?    │ 72    │ 0.92  │ 78    │ P             │\n",
      "│   7 │    80 │ F     │ f          │ f                   │ f                    │ 2.2   │ 0.6  │ 80    │ 0.7   │ 115   │ P             │\n",
      "│   8 │    66 │ F     │ f          │ f                   │ f                    │ 0.6   │ 2.2  │ 123   │ 0.93  │ 132   │ P             │\n",
      "│   9 │    68 │ M     │ f          │ f                   │ f                    │ 2.4   │ 1.6  │ 83    │ 0.89  │ 93    │ P             │\n",
      "│  10 │    84 │ F     │ f          │ f                   │ f                    │ 1.1   │ 2.2  │ 115   │ 0.95  │ 121   │ P             │\n",
      "│  11 │    67 │ F     │ f          │ f                   │ f                    │ 0.03  │ ?    │ 152   │ 0.99  │ 153   │ P             │\n",
      "│  12 │    71 │ F     │ f          │ f                   │ t                    │ 0.03  │ 3.8  │ 171   │ 1.13  │ 151   │ P             │\n",
      "│  13 │    59 │ F     │ f          │ f                   │ f                    │ 2.8   │ 1.7  │ 97    │ 0.91  │ 107   │ P             │\n",
      "│  14 │    28 │ M     │ f          │ f                   │ f                    │ 3.3   │ 1.8  │ 109   │ 0.91  │ 119   │ P             │\n",
      "│  15 │    65 │ F     │ f          │ t                   │ f                    │ 12    │ ?    │ 99    │ 1.14  │ 87    │ N             │\n",
      "│  16 │    42 │ ?     │ f          │ f                   │ f                    │ 1.2   │ 1.8  │ 70    │ 0.86  │ 81    │ P             │\n",
      "│  17 │    63 │ F     │ f          │ f                   │ f                    │ 1.5   │ 1.2  │ 117   │ 0.96  │ 121   │ P             │\n",
      "│  18 │    80 │ F     │ f          │ f                   │ f                    │ 6     │ 1.6  │ 99    │ 0.95  │ 104   │ P             │\n",
      "│  19 │    28 │ M     │ f          │ f                   │ f                    │ 2.1   │ 2.6  │ 121   │ 0.94  │ 130   │ P             │\n",
      "│  20 │    51 │ F     │ f          │ f                   │ f                    │ 0.1   │ ?    │ 130   │ 0.86  │ 151   │ P             │\n",
      "│  21 │    46 │ M     │ f          │ f                   │ f                    │ 0.8   │ 2.1  │ 108   │ 0.91  │ 119   │ P             │\n",
      "│  22 │    81 │ M     │ f          │ f                   │ f                    │ 1.9   │ 0.3  │ 102   │ 0.96  │ 106   │ P             │\n",
      "│  23 │    54 │ F     │ f          │ f                   │ f                    │ 3.1   │ ?    │ 104   │ 0.9   │ 116   │ P             │\n",
      "│  24 │    55 │ M     │ f          │ f                   │ f                    │ 0.2   │ 1.8  │ 134   │ 1.02  │ 131   │ P             │\n",
      "│  25 │    63 │ F     │ f          │ f                   │ f                    │ 0.03  │ 5.5  │ 199   │ 1.05  │ 190   │ P             │\n",
      "│  26 │    60 │ M     │ f          │ f                   │ f                    │ 13    │ 1.4  │ 57    │ 0.62  │ 92    │ P             │\n",
      "│  27 │    25 │ F     │ f          │ f                   │ f                    │ 0.3   │ 3.1  │ 129   │ ?     │ ?     │ P             │\n",
      "│  28 │    73 │ F     │ f          │ f                   │ f                    │ 1.9   │ 1.5  │ 113   │ 1.06  │ 106   │ P             │\n",
      "│  29 │    67 │ M     │ f          │ f                   │ f                    │ ?     │ ?    │ 97    │ 0.95  │ 102   │ P             │\n",
      "│  30 │    34 │ F     │ t          │ f                   │ t                    │ 0.035 │ 2.5  │ 119   │ 1.55  │ 76    │ P             │\n",
      "│  31 │    70 │ F     │ f          │ f                   │ f                    │ 2.5   │ 2.3  │ 84    │ 0.92  │ 92    │ P             │\n",
      "│  32 │    78 │ F     │ f          │ f                   │ f                    │ 0.5   │ 1.9  │ 81    │ 0.83  │ 98    │ P             │\n",
      "│  33 │    37 │ F     │ f          │ f                   │ f                    │ 1.7   │ 1.9  │ 95    │ 1.05  │ 90    │ P             │\n",
      "│  34 │    85 │ F     │ f          │ t                   │ f                    │ 7.3   │ 2.4  │ 66    │ 1.09  │ 61    │ P             │\n",
      "│  35 │    25 │ F     │ f          │ f                   │ f                    │ 1.1   │ ?    │ 101   │ 1.07  │ 94    │ P             │\n",
      "│  36 │    26 │ F     │ f          │ f                   │ f                    │ 1.8   │ 2.5  │ 147   │ 1.13  │ 129   │ P             │\n",
      "│  37 │    58 │ F     │ f          │ f                   │ f                    │ 0.26  │ 2.7  │ 120   │ 1.27  │ 95    │ P             │\n",
      "│  38 │    51 │ F     │ f          │ f                   │ f                    │ 2.8   │ ?    │ 69    │ 0.76  │ 91    │ P             │\n",
      "│  39 │    64 │ F     │ f          │ f                   │ f                    │ ?     │ ?    │ ?     │ ?     │ ?     │ P             │\n",
      "│  40 │    44 │ M     │ f          │ f                   │ f                    │ 45    │ 1.4  │ 39    │ 1.16  │ 33    │ N             │\n",
      "│  41 │    48 │ M     │ f          │ f                   │ t                    │ 5.4   │ 1.9  │ 87    │ 1     │ 87    │ P             │\n",
      "│  42 │    61 │ F     │ f          │ f                   │ f                    │ 0.99  │ 1.5  │ 63    │ 0.56  │ 113   │ P             │\n",
      "│  43 │    35 │ F     │ f          │ f                   │ f                    │ 0.25  │ 2    │ 121   │ 0.81  │ 148   │ P             │\n",
      "│  44 │    70 │ F     │ f          │ f                   │ f                    │ 1.1   │ 1.7  │ 95    │ 0.68  │ 140   │ P             │\n",
      "│  45 │    81 │ F     │ f          │ f                   │ f                    │ 0.2   │ 2.2  │ 133   │ 0.78  │ 171   │ P             │\n",
      "│  46 │    83 │ F     │ f          │ f                   │ f                    │ 0.92  │ 0.9  │ 86    │ 0.76  │ 113   │ P             │\n",
      "│  47 │    21 │ ?     │ f          │ f                   │ f                    │ ?     │ 1.8  │ 163   │ 1.05  │ 155   │ P             │\n",
      "│  48 │    87 │ F     │ f          │ f                   │ f                    │ 0.15  │ 1.7  │ 162   │ 0.87  │ 186   │ P             │\n",
      "│  49 │    78 │ F     │ f          │ t                   │ f                    │ 0.64  │ 1.7  │ 113   │ 0.99  │ 115   │ P             │\n",
      "│  50 │    64 │ F     │ f          │ f                   │ f                    │ 0.035 │ 1    │ 103   │ 0.85  │ 122   │ P             │\n",
      "│  51 │    64 │ F     │ f          │ f                   │ f                    │ 1     │ 1.7  │ 96    │ 0.9   │ 107   │ P             │\n",
      "│  52 │    68 │ M     │ f          │ f                   │ f                    │ 0.4   │ 2.2  │ 117   │ 0.86  │ 136   │ P             │\n",
      "│  53 │    44 │ F     │ f          │ f                   │ f                    │ 2.5   │ 1.6  │ 119   │ 1.09  │ 110   │ P             │\n",
      "│  54 │    53 │ F     │ f          │ f                   │ f                    │ ?     │ 2.8  │ ?     │ ?     │ ?     │ P             │\n",
      "│  55 │    77 │ M     │ f          │ f                   │ f                    │ 2     │ 2.9  │ 151   │ 1.35  │ 111   │ P             │\n",
      "│  56 │    27 │ F     │ f          │ f                   │ f                    │ 2.6   │ ?    │ 112   │ 1.15  │ 97    │ P             │\n",
      "│  57 │    65 │ M     │ f          │ f                   │ f                    │ 14.8  │ 1.5  │ 61    │ 0.85  │ 72    │ N             │\n",
      "│  58 │    27 │ F     │ f          │ f                   │ f                    │ 15    │ 1.6  │ 82    │ 0.82  │ 100   │ N             │\n",
      "│  59 │    54 │ F     │ f          │ f                   │ f                    │ 19    │ 2.2  │ 83    │ 1.03  │ 81    │ N             │\n",
      "│  60 │    69 │ F     │ f          │ f                   │ f                    │ 1.8   │ 2.3  │ 97    │ 0.89  │ 109   │ P             │\n",
      "│  61 │    42 │ ?     │ f          │ f                   │ f                    │ 0.02  │ 2.6  │ 138   │ 1.58  │ 88    │ P             │\n",
      "│  62 │    87 │ F     │ f          │ f                   │ f                    │ 3     │ 1.6  │ 71    │ 1.06  │ 67    │ P             │\n",
      "│  63 │    74 │ M     │ f          │ f                   │ f                    │ 1     │ 2.1  │ 77    │ 0.91  │ 84    │ P             │\n",
      "│  64 │    38 │ ?     │ f          │ f                   │ f                    │ 2.9   │ 1.8  │ 93    │ 0.95  │ 98    │ P             │\n",
      "│  65 │    66 │ M     │ f          │ f                   │ f                    │ 1.3   │ 1.7  │ 86    │ 0.91  │ 94    │ P             │\n",
      "│  66 │    69 │ F     │ f          │ f                   │ f                    │ ?     │ ?    │ ?     │ ?     │ ?     │ P             │\n",
      "│  67 │    76 │ M     │ f          │ f                   │ f                    │ 3.2   │ 0.8  │ 101   │ 0.99  │ 103   │ P             │\n",
      "│  68 │    44 │ M     │ f          │ f                   │ f                    │ 0.2   │ 1.5  │ 107   │ 0.79  │ 135   │ P             │\n",
      "│  69 │    45 │ ?     │ f          │ f                   │ f                    │ 9     │ 2.8  │ 237   │ 1.17  │ 203   │ P             │\n",
      "│  70 │    36 │ F     │ f          │ f                   │ f                    │ ?     │ 2    │ 96    │ 0.86  │ 112   │ P             │\n",
      "│  71 │    22 │ F     │ f          │ f                   │ f                    │ 1.3   │ ?    │ 110   │ 0.94  │ 117   │ P             │\n",
      "│  72 │    59 │ F     │ f          │ f                   │ f                    │ ?     │ ?    │ ?     │ ?     │ ?     │ P             │\n",
      "│  73 │    37 │ F     │ f          │ f                   │ f                    │ 1.6   │ ?    │ 67    │ 0.71  │ 95    │ P             │\n",
      "│  74 │    65 │ ?     │ f          │ f                   │ f                    │ 4.3   │ ?    │ 88    │ 0.72  │ 122   │ P             │\n",
      "│  75 │    70 │ F     │ f          │ f                   │ f                    │ 0.005 │ 2.6  │ 160   │ 0.88  │ 180   │ P             │\n",
      "│  76 │    69 │ F     │ f          │ f                   │ f                    │ 0.31  │ ?    │ 118   │ 0.83  │ 142   │ P             │\n",
      "│  77 │    66 │ M     │ f          │ f                   │ f                    │ 0.5   │ 1.9  │ 80    │ 0.85  │ 94    │ P             │\n",
      "│  78 │    61 │ F     │ f          │ f                   │ f                    │ 0.61  │ 1.6  │ 103   │ 0.93  │ 111   │ P             │\n",
      "│  79 │    44 │ M     │ f          │ f                   │ f                    │ 2     │ 1.3  │ 136   │ 0.94  │ 145   │ P             │\n",
      "│  80 │    43 │ M     │ f          │ f                   │ f                    │ 0.05  │ ?    │ 160   │ 1.03  │ 156   │ P             │\n",
      "│  81 │    72 │ F     │ f          │ f                   │ f                    │ ?     │ ?    │ 114   │ 1.11  │ 102   │ P             │\n",
      "│  82 │    82 │ F     │ f          │ f                   │ f                    │ 1.9   │ 2.9  │ 116   │ 1.2   │ 97    │ P             │\n",
      "│  83 │    72 │ ?     │ f          │ f                   │ f                    │ 4.1   │ 1.6  │ 94    │ 0.92  │ 102   │ P             │\n",
      "│  84 │    71 │ F     │ f          │ f                   │ f                    │ 0.8   │ 2.3  │ 133   │ 1.1   │ 121   │ P             │\n",
      "│  85 │    34 │ ?     │ f          │ f                   │ f                    │ 7.8   │ 2    │ 95    │ 0.99  │ 96    │ N             │\n",
      "│  86 │    31 │ F     │ f          │ f                   │ f                    │ 1.3   │ ?    │ 161   │ 1.33  │ 121   │ P             │\n",
      "│  87 │    58 │ M     │ f          │ f                   │ f                    │ 0.25  │ 2.4  │ 102   │ 0.77  │ 134   │ P             │\n",
      "│  88 │    39 │ F     │ f          │ f                   │ f                    │ 160   │ 0.4  │ 11    │ 1.24  │ 8.9   │ N             │\n",
      "│  89 │    49 │ F     │ f          │ f                   │ f                    │ 0.1   │ 0.3  │ 32    │ 0.53  │ 60    │ P             │\n",
      "│  90 │    63 │ F     │ f          │ f                   │ f                    │ 0.025 │ 1.6  │ 124   │ 0.89  │ 139   │ P             │\n",
      "│  91 │    80 │ M     │ f          │ f                   │ f                    │ 2     │ 1.2  │ 39    │ 0.95  │ 41    │ P             │\n",
      "│  92 │    26 │ F     │ f          │ f                   │ f                    │ ?     │ ?    │ ?     │ ?     │ ?     │ P             │\n",
      "│  93 │    23 │ F     │ f          │ f                   │ f                    │ 1.3   │ 2.2  │ 103   │ 1.35  │ 76    │ P             │\n",
      "│  94 │    39 │ F     │ f          │ f                   │ t                    │ 0.25  │ 2.9  │ 136   │ 1.44  │ 94    │ P             │\n",
      "│  95 │    26 │ F     │ f          │ f                   │ f                    │ 2     │ ?    │ 137   │ 1.63  │ 84    │ P             │\n",
      "│  96 │    59 │ ?     │ f          │ f                   │ f                    │ 1.5   │ ?    │ 92    │ 0.93  │ 99    │ P             │\n",
      "│  97 │    39 │ F     │ f          │ f                   │ f                    │ 4.3   │ 2.4  │ 135   │ 1.51  │ 89    │ P             │\n",
      "│  98 │    69 │ F     │ f          │ f                   │ f                    │ 1.4   │ ?    │ 123   │ 0.91  │ 136   │ P             │\n",
      "│  99 │    48 │ F     │ f          │ f                   │ f                    │ 0.3   │ 1.6  │ 86    │ 0.93  │ 92    │ P             │\n",
      "│ 100 │    28 │ F     │ f          │ f                   │ f                    │ 1.3   │ 1.4  │ 120   │ 0.82  │ 146   │ P             │\n",
      "│ 101 │    62 │ M     │ f          │ f                   │ f                    │ 12    │ 1.5  │ 105   │ 0.86  │ 122   │ N             │\n",
      "│ 102 │    31 │ M     │ f          │ f                   │ f                    │ 1.4   │ 2.3  │ 150   │ 1.42  │ 106   │ P             │\n",
      "│ 103 │    71 │ F     │ f          │ f                   │ t                    │ 0.5   │ ?    │ 126   │ 1.02  │ 124   │ P             │\n",
      "│ 104 │    57 │ F     │ f          │ f                   │ f                    │ ?     │ ?    │ ?     │ ?     │ ?     │ P             │\n",
      "│ 105 │    78 │ M     │ f          │ f                   │ f                    │ 2.1   │ 1.8  │ 80    │ 0.72  │ 111   │ P             │\n",
      "│ 106 │    58 │ ?     │ f          │ f                   │ t                    │ 0.01  │ 3.3  │ 129   │ 1.23  │ 105   │ P             │\n",
      "│ 107 │    18 │ M     │ f          │ f                   │ f                    │ ?     │ 2.4  │ 86    │ 1.01  │ 85    │ P             │\n",
      "│ 108 │    59 │ F     │ f          │ f                   │ f                    │ 4.1   │ 3.1  │ 110   │ 1.06  │ 104   │ P             │\n",
      "│ 109 │    77 │ M     │ f          │ f                   │ f                    │ 0.6   │ 1.2  │ 146   │ 0.93  │ 157   │ P             │\n",
      "│ 110 │    23 │ F     │ f          │ f                   │ f                    │ ?     │ ?    │ 86    │ 0.98  │ 88    │ P             │\n",
      "│ 111 │    57 │ M     │ f          │ f                   │ f                    │ 1.6   │ 2    │ 87    │ 0.61  │ 143   │ P             │\n",
      "│ 112 │    70 │ M     │ f          │ f                   │ f                    │ 1.4   │ 2.1  │ 91    │ 0.99  │ 92    │ P             │\n",
      "│ 113 │    57 │ F     │ f          │ f                   │ f                    │ 1.4   │ 2.3  │ 70    │ 0.99  │ 71    │ P             │\n",
      "│ 114 │    65 │ F     │ f          │ f                   │ t                    │ 0.15  │ 3.5  │ 217   │ 0.98  │ 221   │ P             │\n",
      "│ 115 │     1 │ ?     │ f          │ f                   │ f                    │ 8.8   │ 1.9  │ 113   │ 0.86  │ 131   │ N             │\n",
      "│ 116 │    50 │ M     │ f          │ f                   │ f                    │ 151   │ 1    │ 32    │ 1.16  │ 28    │ N             │\n",
      "│ 117 │    55 │ F     │ f          │ f                   │ f                    │ 0.99  │ 1.3  │ 93    │ 0.86  │ 108   │ P             │\n",
      "│ 118 │    44 │ M     │ f          │ t                   │ f                    │ 0.04  │ ?    │ 141   │ 1.03  │ 137   │ P             │\n",
      "│ 119 │    35 │ F     │ f          │ f                   │ f                    │ 3.9   │ ?    │ 83    │ 0.85  │ 97    │ P             │\n",
      "│ 120 │    23 │ F     │ f          │ f                   │ f                    │ 0.02  │ 3.4  │ 91    │ 1.1   │ 83    │ P             │\n",
      "│ 121 │    26 │ F     │ f          │ f                   │ f                    │ 9.4   │ ?    │ 70    │ 0.95  │ 74    │ N             │\n",
      "│ 122 │    31 │ F     │ f          │ f                   │ f                    │ 7.8   │ 2    │ 159   │ 1.51  │ 105   │ P             │\n",
      "│ 123 │    72 │ F     │ f          │ f                   │ f                    │ 1.6   │ 2.2  │ 107   │ 1.12  │ 96    │ P             │\n",
      "│ 124 │    27 │ M     │ f          │ f                   │ f                    │ 0.2   │ 2.2  │ 99    │ 0.82  │ 120   │ P             │\n",
      "│ 125 │    62 │ M     │ f          │ t                   │ t                    │ 13    │ 1.1  │ 87    │ 0.81  │ 107   │ P             │\n",
      "│ 126 │    30 │ F     │ t          │ f                   │ f                    │ 2.7   │ ?    │ 125   │ 1.43  │ 87    │ P             │\n",
      "│ 127 │    76 │ F     │ f          │ f                   │ f                    │ 1.1   │ 2.6  │ 122   │ 1.25  │ 98    │ P             │\n",
      "│ 128 │    83 │ F     │ f          │ f                   │ f                    │ 2.6   │ 1.3  │ 100   │ 0.86  │ 117   │ P             │\n",
      "│ 129 │    72 │ F     │ f          │ f                   │ f                    │ 2.3   │ 2.3  │ 111   │ 1.14  │ 97    │ P             │\n",
      "│ 130 │    29 │ F     │ f          │ f                   │ f                    │ 1.6   │ ?    │ 140   │ 1.41  │ 99    │ P             │\n",
      "│ 131 │    84 │ F     │ f          │ f                   │ f                    │ 0.25  │ 2    │ 134   │ 0.79  │ 170   │ P             │\n",
      "│ 132 │    55 │ F     │ f          │ f                   │ f                    │ 1.8   │ ?    │ 84    │ 0.95  │ 88    │ P             │\n",
      "│ 133 │    49 │ F     │ f          │ f                   │ f                    │ 0.8   │ 2.5  │ 205   │ 1.2   │ 170   │ P             │\n",
      "│ 134 │    80 │ M     │ f          │ f                   │ f                    │ 1.3   │ 2.8  │ 225   │ 1.68  │ 134   │ P             │\n",
      "│ 135 │    75 │ F     │ f          │ f                   │ f                    │ 1.6   │ 1.5  │ 85    │ 0.94  │ 90    │ P             │\n",
      "│ 136 │    43 │ F     │ f          │ f                   │ f                    │ 19    │ ?    │ 63    │ 0.97  │ 65    │ P             │\n",
      "│ 137 │    19 │ F     │ f          │ f                   │ f                    │ ?     │ ?    │ 90    │ 0.89  │ 101   │ P             │\n",
      "│ 138 │     7 │ M     │ f          │ f                   │ f                    │ 0.94  │ 2    │ 93    │ 0.84  │ 110   │ P             │\n",
      "│ 139 │    79 │ M     │ f          │ f                   │ f                    │ 0.2   │ 1.6  │ 82    │ 0.8   │ 104   │ P             │\n",
      "│ 140 │    70 │ F     │ f          │ f                   │ f                    │ 2.4   │ ?    │ 101   │ 0.9   │ 113   │ P             │\n",
      "│ 141 │    59 │ F     │ f          │ f                   │ f                    │ 1.7   │ 1.2  │ 101   │ 0.9   │ 112   │ P             │\n",
      "│ 142 │    34 │ F     │ f          │ f                   │ f                    │ 0.25  │ 2.3  │ 103   │ 1.05  │ 98    │ P             │\n",
      "│ 143 │    51 │ M     │ f          │ f                   │ f                    │ 1.9   │ 2.2  │ 74    │ 0.91  │ 81    │ P             │\n",
      "│ 144 │    79 │ F     │ f          │ f                   │ f                    │ 2.1   │ 2.2  │ 97    │ 1.01  │ 97    │ P             │\n",
      "│ 145 │    37 │ F     │ f          │ f                   │ f                    │ 1.6   │ 2.3  │ 97    │ 1.04  │ 93    │ P             │\n",
      "│ 146 │    53 │ F     │ f          │ f                   │ f                    │ 0.045 │ 1.8  │ 102   │ 1     │ 102   │ P             │\n",
      "│ 147 │    62 │ M     │ f          │ f                   │ f                    │ 3.5   │ 2    │ 67    │ 0.73  │ 92    │ P             │\n",
      "│ 148 │    30 │ M     │ f          │ f                   │ f                    │ 1.1   │ 3.1  │ 119   │ 1.08  │ 109   │ P             │\n",
      "│ 149 │    38 │ F     │ f          │ f                   │ f                    │ 0.88  │ 1.6  │ 108   │ 0.85  │ 127   │ P             │\n",
      "│ 150 │    17 │ F     │ f          │ f                   │ t                    │ ?     │ ?    │ ?     │ ?     │ ?     │ P             │\n",
      "│ 151 │    55 │ F     │ f          │ f                   │ t                    │ 0.01  │ 5.5  │ 219   │ 0.8   │ 274   │ P             │\n",
      "│ 152 │    72 │ F     │ f          │ f                   │ f                    │ 1.1   │ 2.2  │ 124   │ 1.08  │ 115   │ P             │\n",
      "│ 153 │    72 │ F     │ f          │ f                   │ f                    │ 1.5   │ 1.3  │ 86    │ 0.88  │ 99    │ P             │\n",
      "│ 154 │    22 │ ?     │ f          │ f                   │ f                    │ 1.7   │ 2.2  │ 93    │ 1.08  │ 87    │ P             │\n",
      "│ 155 │    18 │ F     │ f          │ t                   │ f                    │ 1.1   │ ?    │ 147   │ 0.95  │ 154   │ P             │\n",
      "│ 156 │    57 │ M     │ f          │ f                   │ f                    │ ?     │ ?    │ 99    │ 0.99  │ 100   │ P             │\n",
      "│ 157 │    53 │ M     │ f          │ f                   │ f                    │ 0.08  │ ?    │ 127   │ 0.9   │ 141   │ P             │\n",
      "│ 158 │    75 │ F     │ f          │ f                   │ f                    │ 4.5   │ 1.1  │ 132   │ 1.01  │ 131   │ P             │\n",
      "│ 159 │    58 │ F     │ f          │ f                   │ f                    │ 1.5   │ 1.6  │ 103   │ 0.9   │ 114   │ P             │\n",
      "│ 160 │    21 │ F     │ f          │ f                   │ f                    │ 1.6   │ 2.1  │ 96    │ 0.85  │ 112   │ P             │\n",
      "│ 161 │    19 │ F     │ f          │ f                   │ f                    │ 0.1   │ 4.2  │ 128   │ 0.98  │ 130   │ P             │\n",
      "│ 162 │    59 │ F     │ f          │ f                   │ f                    │ 0.01  │ 2    │ 113   │ 0.86  │ 131   │ P             │\n",
      "│ 163 │    54 │ M     │ f          │ f                   │ f                    │ 2.3   │ 2.4  │ 106   │ 1     │ 106   │ P             │\n",
      "│ 164 │    41 │ F     │ f          │ f                   │ f                    │ 6     │ 1.9  │ 114   │ 1     │ 114   │ P             │\n",
      "│ 165 │    27 │ F     │ f          │ f                   │ f                    │ 0.5   │ 1.3  │ 108   │ 0.79  │ 137   │ P             │\n",
      "│ 166 │    34 │ F     │ f          │ f                   │ f                    │ 0.25  │ 1.6  │ 107   │ 1.05  │ 102   │ P             │\n",
      "│ 167 │    53 │ M     │ f          │ f                   │ f                    │ 1.6   │ 1.9  │ 96    │ 0.78  │ 124   │ P             │\n",
      "│ 168 │    72 │ M     │ f          │ f                   │ f                    │ 0.3   │ 1.9  │ 104   │ 1.01  │ 104   │ P             │\n",
      "│ 169 │    39 │ F     │ f          │ f                   │ f                    │ 2.1   │ ?    │ ?     │ ?     │ ?     │ P             │\n",
      "│ 170 │    70 │ M     │ f          │ f                   │ f                    │ 0.6   │ 2.6  │ 144   │ 1.2   │ 120   │ P             │\n",
      "│ 171 │    73 │ F     │ f          │ f                   │ f                    │ 3.1   │ 1.5  │ 120   │ 0.94  │ 127   │ P             │\n",
      "│ 172 │    24 │ M     │ f          │ f                   │ t                    │ 0.15  │ 2.7  │ 116   │ 0.82  │ 143   │ P             │\n",
      "│ 173 │    65 │ F     │ f          │ f                   │ f                    │ 0.68  │ 1.4  │ 101   │ 0.98  │ 103   │ P             │\n",
      "│ 174 │    39 │ F     │ f          │ f                   │ f                    │ 1.5   │ 2.8  │ 131   │ 1.26  │ 104   │ P             │\n",
      "│ 175 │    42 │ F     │ f          │ f                   │ f                    │ 3.3   │ 1.7  │ 56    │ 0.9   │ 62    │ P             │\n",
      "│ 176 │    46 │ F     │ f          │ f                   │ f                    │ 1.4   │ 1.3  │ 104   │ 1.06  │ 99    │ P             │\n",
      "│ 177 │    15 │ F     │ f          │ f                   │ f                    │ 0.7   │ 1.8  │ 84    │ 0.98  │ 86    │ P             │\n",
      "│ 178 │    57 │ ?     │ f          │ f                   │ f                    │ 0.67  │ 2.6  │ 79    │ 0.84  │ 93    │ P             │\n",
      "│ 179 │    64 │ F     │ f          │ f                   │ f                    │ 1.5   │ 2.3  │ 116   │ 1.08  │ 107   │ P             │\n",
      "│ 180 │    50 │ M     │ f          │ f                   │ f                    │ 0.2   │ 1.8  │ 123   │ 0.97  │ 126   │ P             │\n",
      "│ 181 │    61 │ M     │ f          │ f                   │ f                    │ 2.2   │ 1.7  │ 79    │ 0.78  │ 101   │ P             │\n",
      "│ 182 │    78 │ F     │ f          │ t                   │ f                    │ 2.6   │ 0.3  │ 87    │ 0.95  │ 91    │ P             │\n",
      "│ 183 │    69 │ F     │ f          │ f                   │ f                    │ 1.5   │ 1.8  │ 142   │ 1.13  │ 125   │ P             │\n",
      "│ 184 │    37 │ F     │ f          │ f                   │ f                    │ 27    │ 1.7  │ 87    │ ?     │ ?     │ P             │\n",
      "│ 185 │    35 │ M     │ f          │ f                   │ f                    │ 1.5   │ 2.3  │ 98    │ 0.92  │ 106   │ P             │\n",
      "│ 186 │    68 │ F     │ f          │ f                   │ f                    │ 1.3   │ 2.4  │ 82    │ 0.91  │ 90    │ P             │\n",
      "│ 187 │    55 │ F     │ f          │ f                   │ f                    │ 1.2   │ 2.4  │ 95    │ 1.05  │ 90    │ P             │\n",
      "│ 188 │    42 │ F     │ f          │ f                   │ f                    │ 6.1   │ 2.2  │ 74    │ ?     │ ?     │ N             │\n",
      "│ 189 │    37 │ F     │ f          │ f                   │ f                    │ 2.1   │ 2.4  │ 177   │ 1.46  │ 122   │ P             │\n",
      "│ 190 │    25 │ M     │ f          │ f                   │ f                    │ 1.3   │ 1.5  │ 96    │ 0.8   │ 121   │ P             │\n",
      "│ 191 │    68 │ M     │ f          │ f                   │ f                    │ 0.1   │ 1.8  │ 80    │ 0.77  │ 104   │ P             │\n",
      "│ 192 │    85 │ M     │ f          │ f                   │ f                    │ 0.5   │ 1.2  │ 93    │ 0.79  │ 117   │ P             │\n",
      "│ 193 │    68 │ M     │ f          │ f                   │ f                    │ 2     │ 1.5  │ 110   │ 0.89  │ 124   │ P             │\n",
      "│ 194 │    36 │ F     │ t          │ f                   │ t                    │ 0.005 │ ?    │ 108   │ 1.1   │ 99    │ P             │\n",
      "│ 195 │    45 │ M     │ f          │ f                   │ f                    │ 0.75  │ 2.3  │ 119   │ 0.94  │ 126   │ P             │\n",
      "│ 196 │    71 │ F     │ f          │ f                   │ f                    │ 0.02  │ ?    │ 127   │ 1.06  │ 119   │ P             │\n",
      "│ 197 │    83 │ M     │ f          │ f                   │ f                    │ 1.6   │ ?    │ 120   │ 1.29  │ 92    │ P             │\n",
      "│ 198 │    35 │ F     │ f          │ f                   │ f                    │ 0.045 │ 2.1  │ 71    │ 1.1   │ 64    │ P             │\n",
      "│ 199 │    32 │ F     │ t          │ f                   │ t                    │ 0.025 │ 3.7  │ 139   │ 1.34  │ 104   │ P             │\n",
      "╰─────┴───────┴───────┴────────────┴─────────────────────┴──────────────────────┴───────┴──────┴───────┴───────┴───────┴───────────────╯\n"
     ]
    }
   ],
   "source": [
    "#Dataseti pas heqjes se kolonave:\n",
    "print(tabulate(df_pk.head(200), headers='keys', tablefmt='rounded_outline'))"
   ]
  },
  {
   "cell_type": "code",
   "execution_count": 8,
   "id": "67887107",
   "metadata": {},
   "outputs": [
    {
     "name": "stdout",
     "output_type": "stream",
     "text": [
      "<class 'pandas.core.frame.DataFrame'>\n",
      "Index: 3711 entries, 0 to 3771\n",
      "Data columns (total 11 columns):\n",
      " #   Column              Non-Null Count  Dtype \n",
      "---  ------              --------------  ----- \n",
      " 0   age                 3711 non-null   object\n",
      " 1   sex                 3711 non-null   object\n",
      " 2   pregnant            3711 non-null   object\n",
      " 3   query hypothyroid   3711 non-null   object\n",
      " 4   query hyperthyroid  3711 non-null   object\n",
      " 5   TSH                 3711 non-null   object\n",
      " 6   T3                  3711 non-null   object\n",
      " 7   TT4                 3711 non-null   object\n",
      " 8   T4U                 3711 non-null   object\n",
      " 9   FTI                 3711 non-null   object\n",
      " 10  binaryClass         3711 non-null   object\n",
      "dtypes: object(11)\n",
      "memory usage: 347.9+ KB\n"
     ]
    }
   ],
   "source": [
    "df_pk.info()"
   ]
  },
  {
   "cell_type": "code",
   "execution_count": 9,
   "id": "2dbadad5",
   "metadata": {},
   "outputs": [],
   "source": [
    "kolonat = ['age', 'sex', 'pregnant', 'query hypothyroid', 'query hyperthyroid',\n",
    "           'TSH', 'T3', 'TT4', 'T4U', 'FTI', 'binaryClass']"
   ]
  },
  {
   "cell_type": "code",
   "execution_count": 10,
   "id": "09e6c6d4",
   "metadata": {},
   "outputs": [],
   "source": [
    "kolona_numerike = ['age', 'TSH', 'T3', 'TT4', 'T4U', 'FTI']\n",
    "kolona_kategorike = ['sex', 'pregnant', 'query hypothyroid', 'query hyperthyroid', 'binaryClass']"
   ]
  },
  {
   "cell_type": "code",
   "execution_count": 11,
   "id": "fbefb079",
   "metadata": {},
   "outputs": [],
   "source": [
    "for kolona in kolona_numerike:\n",
    "    df_pk[kolona] = pd.to_numeric(df_pk[kolona], errors='coerce')\n",
    "    vlera_mesatare = df_pk[kolona].mean()\n",
    "    df_pk[kolona] = df_pk[kolona].fillna(vlera_mesatare)"
   ]
  },
  {
   "cell_type": "code",
   "execution_count": 12,
   "id": "9f7f03e0",
   "metadata": {},
   "outputs": [],
   "source": [
    "for kolona in kolona_kategorike:\n",
    "    vlera_shpeshte = df_pk[kolona].mode()[0] \n",
    "    df_pk[kolona] = df_pk[kolona].fillna(vlera_shpeshte)"
   ]
  },
  {
   "cell_type": "code",
   "execution_count": 13,
   "id": "fd0984c3",
   "metadata": {},
   "outputs": [],
   "source": [
    "# Encode categorical columns cc\n",
    "le = LabelEncoder()\n",
    "for col in ['sex', 'pregnant', 'query hypothyroid', 'query hyperthyroid', 'binaryClass']:\n",
    "    df_pk[col] = le.fit_transform(df_pk[col].astype(str))\n"
   ]
  },
  {
   "cell_type": "code",
   "execution_count": 14,
   "id": "5341a3e8",
   "metadata": {},
   "outputs": [
    {
     "name": "stdout",
     "output_type": "stream",
     "text": [
      "age                   0\n",
      "sex                   0\n",
      "pregnant              0\n",
      "query hypothyroid     0\n",
      "query hyperthyroid    0\n",
      "TSH                   0\n",
      "T3                    0\n",
      "TT4                   0\n",
      "T4U                   0\n",
      "FTI                   0\n",
      "binaryClass           0\n",
      "dtype: int64\n"
     ]
    }
   ],
   "source": [
    "#Numri i vlerave null pas pastrimit\n",
    "print(df_pk[kolonat].isnull().sum())"
   ]
  },
  {
   "cell_type": "code",
   "execution_count": 15,
   "id": "082fd647",
   "metadata": {},
   "outputs": [
    {
     "name": "stdout",
     "output_type": "stream",
     "text": [
      "╭────┬───────┬───────┬────────────┬─────────────────────┬──────────────────────┬───────────┬────────┬─────────┬──────────┬─────────┬───────────────╮\n",
      "│    │   age │   sex │   pregnant │   query hypothyroid │   query hyperthyroid │       TSH │     T3 │     TT4 │      T4U │     FTI │   binaryClass │\n",
      "├────┼───────┼───────┼────────────┼─────────────────────┼──────────────────────┼───────────┼────────┼─────────┼──────────┼─────────┼───────────────┤\n",
      "│  0 │    41 │     1 │          0 │                   0 │                    0 │   1.3     │ 2.5    │ 125     │ 1.14     │ 109     │             1 │\n",
      "│  1 │    23 │     1 │          0 │                   0 │                    0 │   4.1     │ 2      │ 102     │ 0.994989 │ 110.481 │             1 │\n",
      "│  2 │    46 │     2 │          0 │                   0 │                    0 │   0.98    │ 2.0135 │ 109     │ 0.91     │ 120     │             1 │\n",
      "│  3 │    70 │     1 │          0 │                   0 │                    0 │   0.16    │ 1.9    │ 175     │ 0.994989 │ 110.481 │             1 │\n",
      "│  4 │    70 │     1 │          0 │                   0 │                    0 │   0.72    │ 1.2    │  61     │ 0.87     │  70     │             1 │\n",
      "│  5 │    18 │     1 │          0 │                   0 │                    0 │   0.03    │ 2.0135 │ 183     │ 1.3      │ 141     │             1 │\n",
      "│  6 │    59 │     1 │          0 │                   0 │                    0 │   5.08782 │ 2.0135 │  72     │ 0.92     │  78     │             1 │\n",
      "│  7 │    80 │     1 │          0 │                   0 │                    0 │   2.2     │ 0.6    │  80     │ 0.7      │ 115     │             1 │\n",
      "│  8 │    66 │     1 │          0 │                   0 │                    0 │   0.6     │ 2.2    │ 123     │ 0.93     │ 132     │             1 │\n",
      "│  9 │    68 │     2 │          0 │                   0 │                    0 │   2.4     │ 1.6    │  83     │ 0.89     │  93     │             1 │\n",
      "│ 10 │    84 │     1 │          0 │                   0 │                    0 │   1.1     │ 2.2    │ 115     │ 0.95     │ 121     │             1 │\n",
      "│ 11 │    67 │     1 │          0 │                   0 │                    0 │   0.03    │ 2.0135 │ 152     │ 0.99     │ 153     │             1 │\n",
      "│ 12 │    71 │     1 │          0 │                   0 │                    1 │   0.03    │ 3.8    │ 171     │ 1.13     │ 151     │             1 │\n",
      "│ 13 │    59 │     1 │          0 │                   0 │                    0 │   2.8     │ 1.7    │  97     │ 0.91     │ 107     │             1 │\n",
      "│ 14 │    28 │     2 │          0 │                   0 │                    0 │   3.3     │ 1.8    │ 109     │ 0.91     │ 119     │             1 │\n",
      "│ 15 │    65 │     1 │          0 │                   1 │                    0 │  12       │ 2.0135 │  99     │ 1.14     │  87     │             0 │\n",
      "│ 16 │    42 │     0 │          0 │                   0 │                    0 │   1.2     │ 1.8    │  70     │ 0.86     │  81     │             1 │\n",
      "│ 17 │    63 │     1 │          0 │                   0 │                    0 │   1.5     │ 1.2    │ 117     │ 0.96     │ 121     │             1 │\n",
      "│ 18 │    80 │     1 │          0 │                   0 │                    0 │   6       │ 1.6    │  99     │ 0.95     │ 104     │             1 │\n",
      "│ 19 │    28 │     2 │          0 │                   0 │                    0 │   2.1     │ 2.6    │ 121     │ 0.94     │ 130     │             1 │\n",
      "│ 20 │    51 │     1 │          0 │                   0 │                    0 │   0.1     │ 2.0135 │ 130     │ 0.86     │ 151     │             1 │\n",
      "│ 21 │    46 │     2 │          0 │                   0 │                    0 │   0.8     │ 2.1    │ 108     │ 0.91     │ 119     │             1 │\n",
      "│ 22 │    81 │     2 │          0 │                   0 │                    0 │   1.9     │ 0.3    │ 102     │ 0.96     │ 106     │             1 │\n",
      "│ 23 │    54 │     1 │          0 │                   0 │                    0 │   3.1     │ 2.0135 │ 104     │ 0.9      │ 116     │             1 │\n",
      "│ 24 │    55 │     2 │          0 │                   0 │                    0 │   0.2     │ 1.8    │ 134     │ 1.02     │ 131     │             1 │\n",
      "│ 25 │    63 │     1 │          0 │                   0 │                    0 │   0.03    │ 5.5    │ 199     │ 1.05     │ 190     │             1 │\n",
      "│ 26 │    60 │     2 │          0 │                   0 │                    0 │  13       │ 1.4    │  57     │ 0.62     │  92     │             1 │\n",
      "│ 27 │    25 │     1 │          0 │                   0 │                    0 │   0.3     │ 3.1    │ 129     │ 0.994989 │ 110.481 │             1 │\n",
      "│ 28 │    73 │     1 │          0 │                   0 │                    0 │   1.9     │ 1.5    │ 113     │ 1.06     │ 106     │             1 │\n",
      "│ 29 │    67 │     2 │          0 │                   0 │                    0 │   5.08782 │ 2.0135 │  97     │ 0.95     │ 102     │             1 │\n",
      "│ 30 │    34 │     1 │          1 │                   0 │                    1 │   0.035   │ 2.5    │ 119     │ 1.55     │  76     │             1 │\n",
      "│ 31 │    70 │     1 │          0 │                   0 │                    0 │   2.5     │ 2.3    │  84     │ 0.92     │  92     │             1 │\n",
      "│ 32 │    78 │     1 │          0 │                   0 │                    0 │   0.5     │ 1.9    │  81     │ 0.83     │  98     │             1 │\n",
      "│ 33 │    37 │     1 │          0 │                   0 │                    0 │   1.7     │ 1.9    │  95     │ 1.05     │  90     │             1 │\n",
      "│ 34 │    85 │     1 │          0 │                   1 │                    0 │   7.3     │ 2.4    │  66     │ 1.09     │  61     │             1 │\n",
      "│ 35 │    25 │     1 │          0 │                   0 │                    0 │   1.1     │ 2.0135 │ 101     │ 1.07     │  94     │             1 │\n",
      "│ 36 │    26 │     1 │          0 │                   0 │                    0 │   1.8     │ 2.5    │ 147     │ 1.13     │ 129     │             1 │\n",
      "│ 37 │    58 │     1 │          0 │                   0 │                    0 │   0.26    │ 2.7    │ 120     │ 1.27     │  95     │             1 │\n",
      "│ 38 │    51 │     1 │          0 │                   0 │                    0 │   2.8     │ 2.0135 │  69     │ 0.76     │  91     │             1 │\n",
      "│ 39 │    64 │     1 │          0 │                   0 │                    0 │   5.08782 │ 2.0135 │ 108.328 │ 0.994989 │ 110.481 │             1 │\n",
      "│ 40 │    44 │     2 │          0 │                   0 │                    0 │  45       │ 1.4    │  39     │ 1.16     │  33     │             0 │\n",
      "│ 41 │    48 │     2 │          0 │                   0 │                    1 │   5.4     │ 1.9    │  87     │ 1        │  87     │             1 │\n",
      "│ 42 │    61 │     1 │          0 │                   0 │                    0 │   0.99    │ 1.5    │  63     │ 0.56     │ 113     │             1 │\n",
      "│ 43 │    35 │     1 │          0 │                   0 │                    0 │   0.25    │ 2      │ 121     │ 0.81     │ 148     │             1 │\n",
      "│ 44 │    70 │     1 │          0 │                   0 │                    0 │   1.1     │ 1.7    │  95     │ 0.68     │ 140     │             1 │\n",
      "│ 45 │    81 │     1 │          0 │                   0 │                    0 │   0.2     │ 2.2    │ 133     │ 0.78     │ 171     │             1 │\n",
      "│ 46 │    83 │     1 │          0 │                   0 │                    0 │   0.92    │ 0.9    │  86     │ 0.76     │ 113     │             1 │\n",
      "│ 47 │    21 │     0 │          0 │                   0 │                    0 │   5.08782 │ 1.8    │ 163     │ 1.05     │ 155     │             1 │\n",
      "│ 48 │    87 │     1 │          0 │                   0 │                    0 │   0.15    │ 1.7    │ 162     │ 0.87     │ 186     │             1 │\n",
      "│ 49 │    78 │     1 │          0 │                   1 │                    0 │   0.64    │ 1.7    │ 113     │ 0.99     │ 115     │             1 │\n",
      "│ 50 │    64 │     1 │          0 │                   0 │                    0 │   0.035   │ 1      │ 103     │ 0.85     │ 122     │             1 │\n",
      "│ 51 │    64 │     1 │          0 │                   0 │                    0 │   1       │ 1.7    │  96     │ 0.9      │ 107     │             1 │\n",
      "│ 52 │    68 │     2 │          0 │                   0 │                    0 │   0.4     │ 2.2    │ 117     │ 0.86     │ 136     │             1 │\n",
      "│ 53 │    44 │     1 │          0 │                   0 │                    0 │   2.5     │ 1.6    │ 119     │ 1.09     │ 110     │             1 │\n",
      "│ 54 │    53 │     1 │          0 │                   0 │                    0 │   5.08782 │ 2.8    │ 108.328 │ 0.994989 │ 110.481 │             1 │\n",
      "│ 55 │    77 │     2 │          0 │                   0 │                    0 │   2       │ 2.9    │ 151     │ 1.35     │ 111     │             1 │\n",
      "│ 56 │    27 │     1 │          0 │                   0 │                    0 │   2.6     │ 2.0135 │ 112     │ 1.15     │  97     │             1 │\n",
      "│ 57 │    65 │     2 │          0 │                   0 │                    0 │  14.8     │ 1.5    │  61     │ 0.85     │  72     │             0 │\n",
      "│ 58 │    27 │     1 │          0 │                   0 │                    0 │  15       │ 1.6    │  82     │ 0.82     │ 100     │             0 │\n",
      "│ 59 │    54 │     1 │          0 │                   0 │                    0 │  19       │ 2.2    │  83     │ 1.03     │  81     │             0 │\n",
      "│ 60 │    69 │     1 │          0 │                   0 │                    0 │   1.8     │ 2.3    │  97     │ 0.89     │ 109     │             1 │\n",
      "│ 61 │    42 │     0 │          0 │                   0 │                    0 │   0.02    │ 2.6    │ 138     │ 1.58     │  88     │             1 │\n",
      "│ 62 │    87 │     1 │          0 │                   0 │                    0 │   3       │ 1.6    │  71     │ 1.06     │  67     │             1 │\n",
      "│ 63 │    74 │     2 │          0 │                   0 │                    0 │   1       │ 2.1    │  77     │ 0.91     │  84     │             1 │\n",
      "│ 64 │    38 │     0 │          0 │                   0 │                    0 │   2.9     │ 1.8    │  93     │ 0.95     │  98     │             1 │\n",
      "│ 65 │    66 │     2 │          0 │                   0 │                    0 │   1.3     │ 1.7    │  86     │ 0.91     │  94     │             1 │\n",
      "│ 66 │    69 │     1 │          0 │                   0 │                    0 │   5.08782 │ 2.0135 │ 108.328 │ 0.994989 │ 110.481 │             1 │\n",
      "│ 67 │    76 │     2 │          0 │                   0 │                    0 │   3.2     │ 0.8    │ 101     │ 0.99     │ 103     │             1 │\n",
      "│ 68 │    44 │     2 │          0 │                   0 │                    0 │   0.2     │ 1.5    │ 107     │ 0.79     │ 135     │             1 │\n",
      "│ 69 │    45 │     0 │          0 │                   0 │                    0 │   9       │ 2.8    │ 237     │ 1.17     │ 203     │             1 │\n",
      "│ 70 │    36 │     1 │          0 │                   0 │                    0 │   5.08782 │ 2      │  96     │ 0.86     │ 112     │             1 │\n",
      "│ 71 │    22 │     1 │          0 │                   0 │                    0 │   1.3     │ 2.0135 │ 110     │ 0.94     │ 117     │             1 │\n",
      "│ 72 │    59 │     1 │          0 │                   0 │                    0 │   5.08782 │ 2.0135 │ 108.328 │ 0.994989 │ 110.481 │             1 │\n",
      "│ 73 │    37 │     1 │          0 │                   0 │                    0 │   1.6     │ 2.0135 │  67     │ 0.71     │  95     │             1 │\n",
      "│ 74 │    65 │     0 │          0 │                   0 │                    0 │   4.3     │ 2.0135 │  88     │ 0.72     │ 122     │             1 │\n",
      "│ 75 │    70 │     1 │          0 │                   0 │                    0 │   0.005   │ 2.6    │ 160     │ 0.88     │ 180     │             1 │\n",
      "│ 76 │    69 │     1 │          0 │                   0 │                    0 │   0.31    │ 2.0135 │ 118     │ 0.83     │ 142     │             1 │\n",
      "│ 77 │    66 │     2 │          0 │                   0 │                    0 │   0.5     │ 1.9    │  80     │ 0.85     │  94     │             1 │\n",
      "│ 78 │    61 │     1 │          0 │                   0 │                    0 │   0.61    │ 1.6    │ 103     │ 0.93     │ 111     │             1 │\n",
      "│ 79 │    44 │     2 │          0 │                   0 │                    0 │   2       │ 1.3    │ 136     │ 0.94     │ 145     │             1 │\n",
      "│ 80 │    43 │     2 │          0 │                   0 │                    0 │   0.05    │ 2.0135 │ 160     │ 1.03     │ 156     │             1 │\n",
      "│ 81 │    72 │     1 │          0 │                   0 │                    0 │   5.08782 │ 2.0135 │ 114     │ 1.11     │ 102     │             1 │\n",
      "│ 82 │    82 │     1 │          0 │                   0 │                    0 │   1.9     │ 2.9    │ 116     │ 1.2      │  97     │             1 │\n",
      "│ 83 │    72 │     0 │          0 │                   0 │                    0 │   4.1     │ 1.6    │  94     │ 0.92     │ 102     │             1 │\n",
      "│ 84 │    71 │     1 │          0 │                   0 │                    0 │   0.8     │ 2.3    │ 133     │ 1.1      │ 121     │             1 │\n",
      "│ 85 │    34 │     0 │          0 │                   0 │                    0 │   7.8     │ 2      │  95     │ 0.99     │  96     │             0 │\n",
      "│ 86 │    31 │     1 │          0 │                   0 │                    0 │   1.3     │ 2.0135 │ 161     │ 1.33     │ 121     │             1 │\n",
      "│ 87 │    58 │     2 │          0 │                   0 │                    0 │   0.25    │ 2.4    │ 102     │ 0.77     │ 134     │             1 │\n",
      "│ 88 │    39 │     1 │          0 │                   0 │                    0 │ 160       │ 0.4    │  11     │ 1.24     │   8.9   │             0 │\n",
      "│ 89 │    49 │     1 │          0 │                   0 │                    0 │   0.1     │ 0.3    │  32     │ 0.53     │  60     │             1 │\n",
      "│ 90 │    63 │     1 │          0 │                   0 │                    0 │   0.025   │ 1.6    │ 124     │ 0.89     │ 139     │             1 │\n",
      "│ 91 │    80 │     2 │          0 │                   0 │                    0 │   2       │ 1.2    │  39     │ 0.95     │  41     │             1 │\n",
      "│ 92 │    26 │     1 │          0 │                   0 │                    0 │   5.08782 │ 2.0135 │ 108.328 │ 0.994989 │ 110.481 │             1 │\n",
      "│ 93 │    23 │     1 │          0 │                   0 │                    0 │   1.3     │ 2.2    │ 103     │ 1.35     │  76     │             1 │\n",
      "│ 94 │    39 │     1 │          0 │                   0 │                    1 │   0.25    │ 2.9    │ 136     │ 1.44     │  94     │             1 │\n",
      "│ 95 │    26 │     1 │          0 │                   0 │                    0 │   2       │ 2.0135 │ 137     │ 1.63     │  84     │             1 │\n",
      "│ 96 │    59 │     0 │          0 │                   0 │                    0 │   1.5     │ 2.0135 │  92     │ 0.93     │  99     │             1 │\n",
      "│ 97 │    39 │     1 │          0 │                   0 │                    0 │   4.3     │ 2.4    │ 135     │ 1.51     │  89     │             1 │\n",
      "│ 98 │    69 │     1 │          0 │                   0 │                    0 │   1.4     │ 2.0135 │ 123     │ 0.91     │ 136     │             1 │\n",
      "│ 99 │    48 │     1 │          0 │                   0 │                    0 │   0.3     │ 1.6    │  86     │ 0.93     │  92     │             1 │\n",
      "╰────┴───────┴───────┴────────────┴─────────────────────┴──────────────────────┴───────────┴────────┴─────────┴──────────┴─────────┴───────────────╯\n"
     ]
    }
   ],
   "source": [
    "#Te dhenat e pastruara\n",
    "print(tabulate(df_pk[kolonat].head(100), headers='keys', tablefmt='rounded_outline'))"
   ]
  },
  {
   "cell_type": "code",
   "execution_count": 16,
   "id": "b1c665f1",
   "metadata": {},
   "outputs": [],
   "source": [
    "for kolona in kolona_kategorike:\n",
    "    if kolona in df_pk.columns:\n",
    "        vlera_shpeshte = df_pk[kolona].mode()[0]\n",
    "        df_pk[kolona] = df_pk[kolona].fillna(vlera_shpeshte)"
   ]
  },
  {
   "cell_type": "code",
   "execution_count": 17,
   "id": "7e1376fb",
   "metadata": {},
   "outputs": [],
   "source": [
    "enkodimi = LabelEncoder()\n",
    "for kolona in kolona_kategorike:\n",
    "    if kolona in df_pk.columns:\n",
    "        df_pk[kolona] = enkodimi.fit_transform(df_pk[kolona])"
   ]
  },
  {
   "cell_type": "code",
   "execution_count": 39,
   "id": "7c92e09c",
   "metadata": {},
   "outputs": [
    {
     "name": "stdout",
     "output_type": "stream",
     "text": [
      "╭────┬───────┬───────┬────────────┬─────────────────────┬──────────────────────┬─────────┬────────┬───────┬──────────┬─────────┬───────────────╮\n",
      "│    │   age │   sex │   pregnant │   query hypothyroid │   query hyperthyroid │     TSH │     T3 │   TT4 │      T4U │     FTI │   binaryClass │\n",
      "├────┼───────┼───────┼────────────┼─────────────────────┼──────────────────────┼─────────┼────────┼───────┼──────────┼─────────┼───────────────┤\n",
      "│  0 │    41 │     1 │          0 │                   0 │                    0 │ 1.3     │ 2.5    │   125 │ 1.14     │ 109     │             1 │\n",
      "│  1 │    23 │     1 │          0 │                   0 │                    0 │ 4.1     │ 2      │   102 │ 0.994989 │ 110.481 │             1 │\n",
      "│  2 │    46 │     2 │          0 │                   0 │                    0 │ 0.98    │ 2.0135 │   109 │ 0.91     │ 120     │             1 │\n",
      "│  3 │    70 │     1 │          0 │                   0 │                    0 │ 0.16    │ 1.9    │   175 │ 0.994989 │ 110.481 │             1 │\n",
      "│  4 │    70 │     1 │          0 │                   0 │                    0 │ 0.72    │ 1.2    │    61 │ 0.87     │  70     │             1 │\n",
      "│  5 │    18 │     1 │          0 │                   0 │                    0 │ 0.03    │ 2.0135 │   183 │ 1.3      │ 141     │             1 │\n",
      "│  6 │    59 │     1 │          0 │                   0 │                    0 │ 5.08782 │ 2.0135 │    72 │ 0.92     │  78     │             1 │\n",
      "│  7 │    80 │     1 │          0 │                   0 │                    0 │ 2.2     │ 0.6    │    80 │ 0.7      │ 115     │             1 │\n",
      "│  8 │    66 │     1 │          0 │                   0 │                    0 │ 0.6     │ 2.2    │   123 │ 0.93     │ 132     │             1 │\n",
      "│  9 │    68 │     2 │          0 │                   0 │                    0 │ 2.4     │ 1.6    │    83 │ 0.89     │  93     │             1 │\n",
      "╰────┴───────┴───────┴────────────┴─────────────────────┴──────────────────────┴─────────┴────────┴───────┴──────────┴─────────┴───────────────╯\n"
     ]
    }
   ],
   "source": [
    "print(tabulate(df_pk[kolonat].head(10), headers='keys', tablefmt='rounded_outline'))"
   ]
  },
  {
   "cell_type": "code",
   "execution_count": 19,
   "id": "9e4aaf45",
   "metadata": {},
   "outputs": [
    {
     "name": "stdout",
     "output_type": "stream",
     "text": [
      "<class 'pandas.core.frame.DataFrame'>\n",
      "Index: 3711 entries, 0 to 3771\n",
      "Data columns (total 11 columns):\n",
      " #   Column              Non-Null Count  Dtype  \n",
      "---  ------              --------------  -----  \n",
      " 0   age                 3711 non-null   float64\n",
      " 1   sex                 3711 non-null   int64  \n",
      " 2   pregnant            3711 non-null   int64  \n",
      " 3   query hypothyroid   3711 non-null   int64  \n",
      " 4   query hyperthyroid  3711 non-null   int64  \n",
      " 5   TSH                 3711 non-null   float64\n",
      " 6   T3                  3711 non-null   float64\n",
      " 7   TT4                 3711 non-null   float64\n",
      " 8   T4U                 3711 non-null   float64\n",
      " 9   FTI                 3711 non-null   float64\n",
      " 10  binaryClass         3711 non-null   int64  \n",
      "dtypes: float64(6), int64(5)\n",
      "memory usage: 347.9 KB\n"
     ]
    }
   ],
   "source": [
    "df_pk.info()"
   ]
  },
  {
   "cell_type": "code",
   "execution_count": 20,
   "id": "eb2ddc32",
   "metadata": {},
   "outputs": [],
   "source": [
    "df_pk.to_csv(\"dataset/df_pastruarKolonat.csv\", index=False)"
   ]
  },
  {
   "cell_type": "code",
   "execution_count": 21,
   "id": "aa941cd6",
   "metadata": {},
   "outputs": [],
   "source": [
    "df_pastruarKolonat = pd.read_csv('dataset/df_pastruarKolonat.csv')"
   ]
  },
  {
   "cell_type": "code",
   "execution_count": 22,
   "id": "325bfb26",
   "metadata": {},
   "outputs": [],
   "source": [
    "def largo_outliers(df_pastruarKolonat, kolona):\n",
    "    for kol in kolona:\n",
    "        if kol in df_pastruarKolonat.columns:\n",
    "            df_pastruarKolonat[kol] = pd.to_numeric(df_pastruarKolonat[kol], errors='coerce')\n",
    "            \n",
    "            Q1 =df_pastruarKolonat[kol].quantile(0.25)\n",
    "            Q3 = df_pastruarKolonat[kol].quantile(0.75)\n",
    "            IQR = Q3 - Q1\n",
    "\n",
    "            kufiri_poshte = Q1 - 1.5 * IQR\n",
    "            kufiri_larte = Q3 + 1.5 * IQR\n",
    "\n",
    "            df_pastruarKolonat = df_pastruarKolonat[(df_pastruarKolonat[kol] >= kufiri_poshte) & (df_pastruarKolonat[kol] <= kufiri_larte)]\n",
    "\n",
    "    return df_pastruarKolonat"
   ]
  },
  {
   "cell_type": "code",
   "execution_count": 40,
   "id": "94591398",
   "metadata": {},
   "outputs": [
    {
     "name": "stdout",
     "output_type": "stream",
     "text": [
      "╭────┬───────┬───────┬────────────┬─────────────────────┬──────────────────────┬─────────┬────────┬───────┬──────────┬─────────┬───────────────╮\n",
      "│    │   age │   sex │   pregnant │   query hypothyroid │   query hyperthyroid │     TSH │     T3 │   TT4 │      T4U │     FTI │   binaryClass │\n",
      "├────┼───────┼───────┼────────────┼─────────────────────┼──────────────────────┼─────────┼────────┼───────┼──────────┼─────────┼───────────────┤\n",
      "│  0 │    41 │     1 │          0 │                   0 │                    0 │ 1.3     │ 2.5    │   125 │ 1.14     │ 109     │             1 │\n",
      "│  1 │    23 │     1 │          0 │                   0 │                    0 │ 4.1     │ 2      │   102 │ 0.994989 │ 110.481 │             1 │\n",
      "│  2 │    46 │     2 │          0 │                   0 │                    0 │ 0.98    │ 2.0135 │   109 │ 0.91     │ 120     │             1 │\n",
      "│  3 │    70 │     1 │          0 │                   0 │                    0 │ 0.16    │ 1.9    │   175 │ 0.994989 │ 110.481 │             1 │\n",
      "│  4 │    70 │     1 │          0 │                   0 │                    0 │ 0.72    │ 1.2    │    61 │ 0.87     │  70     │             1 │\n",
      "│  5 │    18 │     1 │          0 │                   0 │                    0 │ 0.03    │ 2.0135 │   183 │ 1.3      │ 141     │             1 │\n",
      "│  6 │    59 │     1 │          0 │                   0 │                    0 │ 5.08782 │ 2.0135 │    72 │ 0.92     │  78     │             1 │\n",
      "│  7 │    80 │     1 │          0 │                   0 │                    0 │ 2.2     │ 0.6    │    80 │ 0.7      │ 115     │             1 │\n",
      "│  8 │    66 │     1 │          0 │                   0 │                    0 │ 0.6     │ 2.2    │   123 │ 0.93     │ 132     │             1 │\n",
      "│  9 │    68 │     2 │          0 │                   0 │                    0 │ 2.4     │ 1.6    │    83 │ 0.89     │  93     │             1 │\n",
      "╰────┴───────┴───────┴────────────┴─────────────────────┴──────────────────────┴─────────┴────────┴───────┴──────────┴─────────┴───────────────╯\n"
     ]
    }
   ],
   "source": [
    "print(tabulate(df_pastruarKolonat.head(10), headers='keys', tablefmt='rounded_outline'))"
   ]
  },
  {
   "cell_type": "code",
   "execution_count": 24,
   "id": "e2266f90",
   "metadata": {},
   "outputs": [
    {
     "name": "stderr",
     "output_type": "stream",
     "text": [
      "c:\\Users\\perve\\AppData\\Local\\Programs\\Python\\Python313\\Lib\\site-packages\\seaborn\\categorical.py:700: UserWarning: Setting the 'color' property will override the edgecolor or facecolor properties.\n",
      "  artists = ax.bxp(**boxplot_kws)\n",
      "c:\\Users\\perve\\AppData\\Local\\Programs\\Python\\Python313\\Lib\\site-packages\\seaborn\\categorical.py:700: UserWarning: Setting the 'color' property will override the edgecolor or facecolor properties.\n",
      "  artists = ax.bxp(**boxplot_kws)\n",
      "c:\\Users\\perve\\AppData\\Local\\Programs\\Python\\Python313\\Lib\\site-packages\\seaborn\\categorical.py:700: UserWarning: Setting the 'color' property will override the edgecolor or facecolor properties.\n",
      "  artists = ax.bxp(**boxplot_kws)\n",
      "c:\\Users\\perve\\AppData\\Local\\Programs\\Python\\Python313\\Lib\\site-packages\\seaborn\\categorical.py:700: UserWarning: Setting the 'color' property will override the edgecolor or facecolor properties.\n",
      "  artists = ax.bxp(**boxplot_kws)\n",
      "c:\\Users\\perve\\AppData\\Local\\Programs\\Python\\Python313\\Lib\\site-packages\\seaborn\\categorical.py:700: UserWarning: Setting the 'color' property will override the edgecolor or facecolor properties.\n",
      "  artists = ax.bxp(**boxplot_kws)\n",
      "c:\\Users\\perve\\AppData\\Local\\Programs\\Python\\Python313\\Lib\\site-packages\\seaborn\\categorical.py:700: UserWarning: Setting the 'color' property will override the edgecolor or facecolor properties.\n",
      "  artists = ax.bxp(**boxplot_kws)\n"
     ]
    },
    {
     "data": {
      "image/png": "[encoded data removed]",
      "text/plain": [
       "<Figure size 1500x600 with 6 Axes>"
      ]
     },
     "metadata": {},
     "output_type": "display_data"
    }
   ],
   "source": [
    "plt.figure(figsize=(15, 6))\n",
    "for i, kol in enumerate(kolona_numerike):\n",
    "    plt.subplot(2, 3, i+1)\n",
    "    sns.boxplot(data=df_pastruarKolonat, y=kol, boxprops=dict(color='lightpink'), flierprops=dict(markerfacecolor='purple'))\n",
    "    plt.title(f'Para pastrimit - {kol}')\n",
    "plt.tight_layout()\n",
    "plt.show()\n"
   ]
  },
  {
   "cell_type": "code",
   "execution_count": 25,
   "id": "00b15ac8",
   "metadata": {},
   "outputs": [
    {
     "name": "stderr",
     "output_type": "stream",
     "text": [
      "C:\\Users\\perve\\AppData\\Local\\Temp\\ipykernel_12080\\585133268.py:4: SettingWithCopyWarning: \n",
      "A value is trying to be set on a copy of a slice from a DataFrame.\n",
      "Try using .loc[row_indexer,col_indexer] = value instead\n",
      "\n",
      "See the caveats in the documentation: https://pandas.pydata.org/pandas-docs/stable/user_guide/indexing.html#returning-a-view-versus-a-copy\n",
      "  df_pastruarKolonat[kol] = pd.to_numeric(df_pastruarKolonat[kol], errors='coerce')\n"
     ]
    }
   ],
   "source": [
    "df_paster = largo_outliers(df_pastruarKolonat, kolona_numerike)"
   ]
  },
  {
   "cell_type": "code",
   "execution_count": 26,
   "id": "e003e364",
   "metadata": {},
   "outputs": [
    {
     "name": "stderr",
     "output_type": "stream",
     "text": [
      "c:\\Users\\perve\\AppData\\Local\\Programs\\Python\\Python313\\Lib\\site-packages\\seaborn\\categorical.py:700: UserWarning: Setting the 'color' property will override the edgecolor or facecolor properties.\n",
      "  artists = ax.bxp(**boxplot_kws)\n",
      "c:\\Users\\perve\\AppData\\Local\\Programs\\Python\\Python313\\Lib\\site-packages\\seaborn\\categorical.py:700: UserWarning: Setting the 'color' property will override the edgecolor or facecolor properties.\n",
      "  artists = ax.bxp(**boxplot_kws)\n",
      "c:\\Users\\perve\\AppData\\Local\\Programs\\Python\\Python313\\Lib\\site-packages\\seaborn\\categorical.py:700: UserWarning: Setting the 'color' property will override the edgecolor or facecolor properties.\n",
      "  artists = ax.bxp(**boxplot_kws)\n",
      "c:\\Users\\perve\\AppData\\Local\\Programs\\Python\\Python313\\Lib\\site-packages\\seaborn\\categorical.py:700: UserWarning: Setting the 'color' property will override the edgecolor or facecolor properties.\n",
      "  artists = ax.bxp(**boxplot_kws)\n",
      "c:\\Users\\perve\\AppData\\Local\\Programs\\Python\\Python313\\Lib\\site-packages\\seaborn\\categorical.py:700: UserWarning: Setting the 'color' property will override the edgecolor or facecolor properties.\n",
      "  artists = ax.bxp(**boxplot_kws)\n",
      "c:\\Users\\perve\\AppData\\Local\\Programs\\Python\\Python313\\Lib\\site-packages\\seaborn\\categorical.py:700: UserWarning: Setting the 'color' property will override the edgecolor or facecolor properties.\n",
      "  artists = ax.bxp(**boxplot_kws)\n"
     ]
    },
    {
     "data": {
      "image/png": "[encoded data removed]",
      "text/plain": [
       "<Figure size 1500x600 with 6 Axes>"
      ]
     },
     "metadata": {},
     "output_type": "display_data"
    }
   ],
   "source": [
    "plt.figure(figsize=(15, 6))\n",
    "for i, kol in enumerate(kolona_numerike):\n",
    "    plt.subplot(2, 3, i+1)\n",
    "    sns.boxplot(data=df_paster, y=kol, boxprops=dict(color='lightpink'), flierprops=dict(markerfacecolor='purple'))\n",
    "    plt.title(f'Pas pastrimit - {kol}')\n",
    "plt.tight_layout()\n",
    "plt.show()"
   ]
  },
  {
   "cell_type": "code",
   "execution_count": 27,
   "id": "487434d9",
   "metadata": {},
   "outputs": [],
   "source": [
    "df_pastruarKolonat.to_csv(\"dataset/df_po.csv\", index=False)"
   ]
  },
  {
   "cell_type": "code",
   "execution_count": 28,
   "id": "3fe5752a",
   "metadata": {},
   "outputs": [],
   "source": [
    "df_pastruarOutliers= pd.read_csv('dataset/df_po.csv')"
   ]
  },
  {
   "cell_type": "code",
   "execution_count": 29,
   "id": "4223c912",
   "metadata": {},
   "outputs": [],
   "source": [
    "df_dc = df_pastruarOutliers.copy() #copied dataset of df_pastruarOutliers\n",
    "\n",
    "numeric_cols = ['TSH', 'T3', 'TT4', 'T4U', 'FTI']\n",
    "for col in numeric_cols:\n",
    "    df_dc[col] = pd.to_numeric(df_dc[col], errors='coerce')\n",
    "\n",
    "def classify_patient(row):\n",
    "    TSH, T3, TT4, T4U, FTI = row['TSH'], row['T3'], row['TT4'], row['T4U'], row['FTI']\n",
    "    hypo = hyper = False\n",
    "\n",
    "    if pd.notna(TSH):\n",
    "        if TSH > 4.0:\n",
    "            hypo = True\n",
    "        elif TSH < 0.4:\n",
    "            hyper = True\n",
    "\n",
    "    if pd.notna(T3) and pd.notna(TT4):\n",
    "        if T3 < 1.2 or TT4 < 70:\n",
    "            hypo = True\n",
    "        if T3 > 2.8 or TT4 > 140:\n",
    "            hyper = True\n",
    "\n",
    "    if pd.notna(FTI):\n",
    "        if FTI < 80:\n",
    "            hypo = True\n",
    "        if FTI > 120:\n",
    "            hyper = True\n",
    "\n",
    "    if hypo and not hyper:\n",
    "        return \"hypothyroid\"\n",
    "    elif hyper and not hypo:\n",
    "        return \"hyperthyroid\"\n",
    "    elif hypo and hyper:\n",
    "        return \"inconclusive\"\n",
    "    else:\n",
    "        return \"euthyroid\"\n",
    "\n",
    "# kolona e re per klasifikimin e pacientit ne baze te vlerave te tyre\n",
    "\n",
    "df_dc['diagnosis_class'] = df_dc.apply(classify_patient, axis=1)\n",
    "\n",
    "\n",
    "df_dc.to_csv(\"dataset/dataset_me_diag.csv\", index=False)\n"
   ]
  },
  {
   "cell_type": "code",
   "execution_count": 30,
   "id": "1309e99a",
   "metadata": {},
   "outputs": [],
   "source": [
    "df_dc2 = pd.read_csv('dataset/dataset_me_diag.csv')"
   ]
  },
  {
   "cell_type": "code",
   "execution_count": 31,
   "id": "6043aa4e",
   "metadata": {},
   "outputs": [
    {
     "name": "stdout",
     "output_type": "stream",
     "text": [
      "╭────┬───────┬───────┬────────────┬─────────────────────┬──────────────────────┬─────────┬────────┬───────┬──────────┬─────────┬───────────────┬───────────────────╮\n",
      "│    │   age │   sex │   pregnant │   query hypothyroid │   query hyperthyroid │     TSH │     T3 │   TT4 │      T4U │     FTI │   binaryClass │ diagnosis_class   │\n",
      "├────┼───────┼───────┼────────────┼─────────────────────┼──────────────────────┼─────────┼────────┼───────┼──────────┼─────────┼───────────────┼───────────────────┤\n",
      "│  0 │    41 │     1 │          0 │                   0 │                    0 │ 1.3     │ 2.5    │   125 │ 1.14     │ 109     │             1 │ euthyroid         │\n",
      "│  1 │    23 │     1 │          0 │                   0 │                    0 │ 4.1     │ 2      │   102 │ 0.994989 │ 110.481 │             1 │ hypothyroid       │\n",
      "│  2 │    46 │     2 │          0 │                   0 │                    0 │ 0.98    │ 2.0135 │   109 │ 0.91     │ 120     │             1 │ euthyroid         │\n",
      "│  3 │    70 │     1 │          0 │                   0 │                    0 │ 0.16    │ 1.9    │   175 │ 0.994989 │ 110.481 │             1 │ hyperthyroid      │\n",
      "│  4 │    70 │     1 │          0 │                   0 │                    0 │ 0.72    │ 1.2    │    61 │ 0.87     │  70     │             1 │ hypothyroid       │\n",
      "│  5 │    18 │     1 │          0 │                   0 │                    0 │ 0.03    │ 2.0135 │   183 │ 1.3      │ 141     │             1 │ hyperthyroid      │\n",
      "│  6 │    59 │     1 │          0 │                   0 │                    0 │ 5.08782 │ 2.0135 │    72 │ 0.92     │  78     │             1 │ hypothyroid       │\n",
      "│  7 │    80 │     1 │          0 │                   0 │                    0 │ 2.2     │ 0.6    │    80 │ 0.7      │ 115     │             1 │ hypothyroid       │\n",
      "│  8 │    66 │     1 │          0 │                   0 │                    0 │ 0.6     │ 2.2    │   123 │ 0.93     │ 132     │             1 │ hyperthyroid      │\n",
      "│  9 │    68 │     2 │          0 │                   0 │                    0 │ 2.4     │ 1.6    │    83 │ 0.89     │  93     │             1 │ euthyroid         │\n",
      "╰────┴───────┴───────┴────────────┴─────────────────────┴──────────────────────┴─────────┴────────┴───────┴──────────┴─────────┴───────────────┴───────────────────╯\n"
     ]
    }
   ],
   "source": [
    "print(tabulate(df_dc2.head(10), headers='keys', tablefmt='rounded_outline'))"
   ]
  },
  {
   "cell_type": "code",
   "execution_count": 32,
   "id": "28a1eb24",
   "metadata": {},
   "outputs": [
    {
     "data": {
      "text/plain": [
       "diagnosis_class\n",
       "euthyroid          1256\n",
       "hyperthyroid       1223\n",
       "hypothyroid         958\n",
       "inconclusive        274\n",
       "Name: count, dtype: int64"
      ]
     },
     "execution_count": 32,
     "metadata": {},
     "output_type": "execute_result"
    }
   ],
   "source": [
    "df_dc2[['diagnosis_class']].value_counts()\n"
   ]
  },
  {
   "cell_type": "code",
   "execution_count": 33,
   "id": "4e58f3e5",
   "metadata": {},
   "outputs": [
    {
     "name": "stdout",
     "output_type": "stream",
     "text": [
      "              precision    recall  f1-score   support\n",
      "\n",
      "   euthyroid       0.98      0.99      0.99       377\n",
      "hyperthyroid       0.99      0.99      0.99       377\n",
      " hypothyroid       0.98      0.99      0.99       377\n",
      "inconclusive       0.99      0.96      0.97       377\n",
      "\n",
      "    accuracy                           0.98      1508\n",
      "   macro avg       0.98      0.98      0.98      1508\n",
      "weighted avg       0.98      0.98      0.98      1508\n",
      "\n"
     ]
    },
    {
     "data": {
      "text/plain": [
       "['models/random_forest_7030_model.pkl']"
      ]
     },
     "execution_count": 33,
     "metadata": {},
     "output_type": "execute_result"
    }
   ],
   "source": [
    "#1 Random Forest 70/30 me SMOTE\n",
    "X = df_dc2.drop(columns=['diagnosis_class', 'binaryClass'])\n",
    "y = df_dc2['diagnosis_class']\n",
    "\n",
    "sm = SMOTE(random_state=42)\n",
    "X_resampled, y_resampled = sm.fit_resample(X, y)\n",
    "\n",
    "X_train, X_test, y_train, y_test = train_test_split(\n",
    "    X_resampled, y_resampled, test_size=0.3, random_state=42, stratify=y_resampled\n",
    ")\n",
    "\n",
    "rfc_7030 = RandomForestClassifier(random_state=42)\n",
    "rfc_7030.fit(X_train, y_train)\n",
    "\n",
    "y_pred = rfc_7030.predict(X_test)\n",
    "print(classification_report(y_test, y_pred))\n",
    "\n",
    "joblib.dump(rfc_7030, \"models/random_forest_7030_model.pkl\")"
   ]
  },
  {
   "cell_type": "code",
   "execution_count": 36,
   "id": "91146104",
   "metadata": {},
   "outputs": [
    {
     "name": "stdout",
     "output_type": "stream",
     "text": [
      "              precision    recall  f1-score   support\n",
      "\n",
      "   euthyroid       0.99      0.99      0.99       251\n",
      "hyperthyroid       0.99      0.99      0.99       251\n",
      " hypothyroid       0.98      1.00      0.99       252\n",
      "inconclusive       1.00      0.97      0.98       251\n",
      "\n",
      "    accuracy                           0.99      1005\n",
      "   macro avg       0.99      0.99      0.99      1005\n",
      "weighted avg       0.99      0.99      0.99      1005\n",
      "\n"
     ]
    },
    {
     "data": {
      "text/plain": [
       "['models/random_forest_8020_model.pkl']"
      ]
     },
     "execution_count": 36,
     "metadata": {},
     "output_type": "execute_result"
    }
   ],
   "source": [
    "#2 Random Forest 80/20 me SMOTE\n",
    "X = df_dc2.drop(columns=['diagnosis_class', 'binaryClass'])\n",
    "y = df_dc2['diagnosis_class']\n",
    "\n",
    "sm = SMOTE(random_state=42)\n",
    "X_resampled, y_resampled = sm.fit_resample(X, y)\n",
    "\n",
    "X_train, X_test, y_train, y_test = train_test_split(X_resampled, y_resampled, test_size=0.2, random_state=42, stratify=y_resampled)\n",
    "\n",
    "rfc_8020 = RandomForestClassifier(random_state=42)\n",
    "rfc_8020.fit(X_train, y_train)\n",
    "\n",
    "y_pred = rfc_8020.predict(X_test)\n",
    "print(classification_report(y_test, y_pred))\n",
    "\n",
    "\n",
    "joblib.dump(rfc_8020, \"models/random_forest_8020_model.pkl\")\n"
   ]
  },
  {
   "cell_type": "code",
   "execution_count": 35,
   "id": "e483e045",
   "metadata": {},
   "outputs": [
    {
     "name": "stdout",
     "output_type": "stream",
     "text": [
      "              precision    recall  f1-score   support\n",
      "\n",
      "   euthyroid       0.98      1.00      0.99       377\n",
      "hyperthyroid       1.00      0.99      0.99       377\n",
      " hypothyroid       0.98      0.99      0.98       377\n",
      "inconclusive       0.98      0.97      0.97       377\n",
      "\n",
      "    accuracy                           0.98      1508\n",
      "   macro avg       0.98      0.98      0.98      1508\n",
      "weighted avg       0.98      0.98      0.98      1508\n",
      "\n"
     ]
    },
    {
     "name": "stderr",
     "output_type": "stream",
     "text": [
      "c:\\Users\\perve\\AppData\\Local\\Programs\\Python\\Python313\\Lib\\site-packages\\xgboost\\training.py:183: UserWarning: [19:49:50] WARNING: C:\\actions-runner\\_work\\xgboost\\xgboost\\src\\learner.cc:738: \n",
      "Parameters: { \"use_label_encoder\" } are not used.\n",
      "\n",
      "  bst.update(dtrain, iteration=i, fobj=obj)\n"
     ]
    },
    {
     "data": {
      "text/plain": [
       "['models/xgboost_7030_smote_model.pkl']"
      ]
     },
     "execution_count": 35,
     "metadata": {},
     "output_type": "execute_result"
    }
   ],
   "source": [
    "#3 XGBoost 70/30 me SMOTE\n",
    "X = df_dc2.drop(columns=['diagnosis_class', 'binaryClass'])\n",
    "y = df_dc2['diagnosis_class']\n",
    "\n",
    "X_resampled, y_resampled = sm.fit_resample(X, y)\n",
    "\n",
    "label_encoder = LabelEncoder()\n",
    "y_resampled_encoded = label_encoder.fit_transform(y_resampled)\n",
    "\n",
    "X_train, X_test, y_train, y_test = train_test_split(X_resampled, y_resampled_encoded, test_size=0.3, random_state=42, stratify=y_resampled_encoded)\n",
    "\n",
    "xgb_7030_smote = XGBClassifier(use_label_encoder=False, eval_metric='mlogloss', random_state=42)\n",
    "xgb_7030_smote.fit(X_train, y_train)\n",
    "\n",
    "y_pred = xgb_7030_smote.predict(X_test)\n",
    "print( classification_report(label_encoder.inverse_transform(y_test), label_encoder.inverse_transform(y_pred)))\n",
    "\n",
    "joblib.dump((xgb_7030_smote, label_encoder), \"models/xgboost_7030_smote_model.pkl\")\n"
   ]
  },
  {
   "cell_type": "code",
   "execution_count": 37,
   "id": "569ee867",
   "metadata": {},
   "outputs": [
    {
     "name": "stderr",
     "output_type": "stream",
     "text": [
      "c:\\Users\\perve\\AppData\\Local\\Programs\\Python\\Python313\\Lib\\site-packages\\xgboost\\training.py:183: UserWarning: [19:51:10] WARNING: C:\\actions-runner\\_work\\xgboost\\xgboost\\src\\learner.cc:738: \n",
      "Parameters: { \"use_label_encoder\" } are not used.\n",
      "\n",
      "  bst.update(dtrain, iteration=i, fobj=obj)\n"
     ]
    },
    {
     "name": "stdout",
     "output_type": "stream",
     "text": [
      "              precision    recall  f1-score   support\n",
      "\n",
      "   euthyroid       0.98      1.00      0.99       251\n",
      "hyperthyroid       1.00      0.99      0.99       251\n",
      " hypothyroid       0.98      0.99      0.99       252\n",
      "inconclusive       0.99      0.97      0.98       251\n",
      "\n",
      "    accuracy                           0.99      1005\n",
      "   macro avg       0.99      0.99      0.99      1005\n",
      "weighted avg       0.99      0.99      0.99      1005\n",
      "\n"
     ]
    },
    {
     "data": {
      "text/plain": [
       "['models/xgboost_8020_smote_model.pkl']"
      ]
     },
     "execution_count": 37,
     "metadata": {},
     "output_type": "execute_result"
    }
   ],
   "source": [
    "#4 XGBoost 80/20 me SMOTE\n",
    "X = df_dc2.drop(columns=['diagnosis_class', 'binaryClass'])\n",
    "y = df_dc2['diagnosis_class']\n",
    "\n",
    "X_resampled, y_resampled = sm.fit_resample(X, y)\n",
    "\n",
    "label_encoder = LabelEncoder()\n",
    "y_resampled_encoded = label_encoder.fit_transform(y_resampled)\n",
    "\n",
    "X_train, X_test, y_train, y_test = train_test_split(\n",
    "    X_resampled, y_resampled_encoded, test_size=0.2, random_state=42, stratify=y_resampled_encoded\n",
    ")\n",
    "\n",
    "xgb_8020_smote = XGBClassifier(use_label_encoder=False, eval_metric='mlogloss', random_state=42)\n",
    "xgb_8020_smote.fit(X_train, y_train)\n",
    "\n",
    "y_pred = xgb_8020_smote.predict(X_test)\n",
    "print( classification_report(label_encoder.inverse_transform(y_test), label_encoder.inverse_transform(y_pred)))\n",
    "\n",
    "joblib.dump((xgb_8020_smote, label_encoder), \"models/xgboost_8020_smote_model.pkl\")\n"
   ]
  },
  {
   "cell_type": "code",
   "execution_count": 38,
   "id": "a0279e8c",
   "metadata": {},
   "outputs": [],
   "source": [
    "\n",
    "model = joblib.load(\"models/random_forest_8020_model.pkl\")\n",
    "model_columns = model.feature_names_in_\n",
    "\n",
    "def update_pregnancy_options(event=None):\n",
    "    sex = sex_dropdown.get()\n",
    "    if sex == \"Mashkull\":\n",
    "        preg_dropdown.set(\"0\")\n",
    "        preg_dropdown.config(state=\"disabled\")\n",
    "    else:\n",
    "        preg_dropdown.config(state=\"readonly\")\n",
    "\n",
    "def predict_diagnosis():\n",
    "    try:\n",
    "        age = age_entry.get()\n",
    "        sex = sex_dropdown.get()\n",
    "        TSH = tsh_entry.get()\n",
    "        T3 = t3_entry.get()\n",
    "        TT4 = tt4_entry.get()\n",
    "        T4U = t4u_entry.get()\n",
    "        FTI = fti_entry.get()\n",
    "        pregnant = preg_dropdown.get()\n",
    "        query_hypo = hypo_dropdown.get()\n",
    "        query_hyper = hyper_dropdown.get()\n",
    "\n",
    "        if not all([age, sex, TSH, T3, TT4, T4U, FTI]):\n",
    "            messagebox.showerror(\"Gabim\", \"Ju lutem plotesoni te gjitha fushat!\")\n",
    "            return\n",
    "\n",
    "        age = int(age)\n",
    "        if not (0 <= age <= 100):\n",
    "            raise ValueError(\"Mosha duhet te jete ndermjet 0 dhe 100\")\n",
    "\n",
    "        sex_val = 1 if sex == \"Femer\" else 2\n",
    "        TSH = float(TSH)\n",
    "        T3 = float(T3)\n",
    "        TT4 = float(TT4)\n",
    "        T4U = float(T4U)\n",
    "        FTI = float(FTI)\n",
    "\n",
    "        input_dict = {\n",
    "            'age': age,\n",
    "            'sex': sex_val,\n",
    "            'TSH': TSH,\n",
    "            'T3': T3,\n",
    "            'TT4': TT4,\n",
    "            'T4U': T4U,\n",
    "            'FTI': FTI,\n",
    "            'pregnant': int(pregnant),\n",
    "            'query hypothyroid': int(query_hypo),\n",
    "            'query hyperthyroid': int(query_hyper)\n",
    "        }\n",
    "\n",
    "        df_input = pd.DataFrame([input_dict])\n",
    "        df_input = pd.get_dummies(df_input)\n",
    "        df_input = df_input.reindex(columns=model_columns, fill_value=0)\n",
    "\n",
    "        prediction = model.predict(df_input)[0]\n",
    "        messagebox.showinfo(\"Rezultat\", f\"Parashikimi: {prediction}\")\n",
    "\n",
    "    except ValueError as e:\n",
    "        messagebox.showerror(\"Gabim ne te dhena\", str(e))\n",
    "    except Exception as e:\n",
    "        messagebox.showerror(\"Gabim\", f\"Ndodhi nje gabim: {e}\")\n",
    "\n",
    "root = tk.Tk()\n",
    "root.title(\"Diagnoza per pacient te ri\")\n",
    "\n",
    "tk.Label(root, text=\"Mosha:\").grid(row=0, column=0, sticky=\"e\", padx=5, pady=5)\n",
    "age_entry = tk.Entry(root, width=20)\n",
    "age_entry.grid(row=0, column=1, padx=5, pady=5)\n",
    "\n",
    "tk.Label(root, text=\"Gjinia:\").grid(row=1, column=0, sticky=\"e\", padx=5, pady=5)\n",
    "sex_dropdown = ttk.Combobox(root, values=[\"Femer\", \"Mashkull\"], state=\"readonly\", width=18)\n",
    "sex_dropdown.grid(row=1, column=1, padx=5, pady=5)\n",
    "sex_dropdown.bind(\"<<ComboboxSelected>>\", update_pregnancy_options)\n",
    "\n",
    "tk.Label(root, text=\"Vlera e TSH:\").grid(row=2, column=0, sticky=\"e\", padx=5, pady=5)\n",
    "tsh_entry = tk.Entry(root, width=20)\n",
    "tsh_entry.grid(row=2, column=1, padx=5, pady=5)\n",
    "\n",
    "tk.Label(root, text=\"Vlera e T3:\").grid(row=3, column=0, sticky=\"e\", padx=5, pady=5)\n",
    "t3_entry = tk.Entry(root, width=20)\n",
    "t3_entry.grid(row=3, column=1, padx=5, pady=5)\n",
    "\n",
    "tk.Label(root, text=\"Vlera e TT4:\").grid(row=4, column=0, sticky=\"e\", padx=5, pady=5)\n",
    "tt4_entry = tk.Entry(root, width=20)\n",
    "tt4_entry.grid(row=4, column=1, padx=5, pady=5)\n",
    "\n",
    "tk.Label(root, text=\"Vlera e T4U:\").grid(row=5, column=0, sticky=\"e\", padx=5, pady=5)\n",
    "t4u_entry = tk.Entry(root, width=20)\n",
    "t4u_entry.grid(row=5, column=1, padx=5, pady=5)\n",
    "\n",
    "tk.Label(root, text=\"Vlera e FTI:\").grid(row=6, column=0, sticky=\"e\", padx=5, pady=5)\n",
    "fti_entry = tk.Entry(root, width=20)\n",
    "fti_entry.grid(row=6, column=1, padx=5, pady=5)\n",
    "\n",
    "tk.Label(root, text=\"Vlera e Shtatzene:\").grid(row=7, column=0, sticky=\"e\", padx=5, pady=5)\n",
    "preg_dropdown = ttk.Combobox(root, values=[\"0\", \"1\"], state=\"readonly\", width=18)\n",
    "preg_dropdown.grid(row=7, column=1, padx=5, pady=5)\n",
    "\n",
    "tk.Label(root, text=\"Histroik i Hiportiroidizmit:\").grid(row=8, column=0, sticky=\"e\", padx=5, pady=5)\n",
    "hypo_dropdown = ttk.Combobox(root, values=[\"0\", \"1\"], state=\"readonly\", width=18)\n",
    "hypo_dropdown.grid(row=8, column=1, padx=5, pady=5)\n",
    "\n",
    "tk.Label(root, text=\"Historik i Hipertiroidizmit:\").grid(row=9, column=0, sticky=\"e\", padx=5, pady=5)\n",
    "hyper_dropdown = ttk.Combobox(root, values=[\"0\", \"1\"], state=\"readonly\", width=18)\n",
    "hyper_dropdown.grid(row=9, column=1, padx=5, pady=5)\n",
    "\n",
    "tk.Button(root, text=\"Parashiko\", command=predict_diagnosis).grid(row=10, column=0, columnspan=2, pady=10)\n",
    "root.title(\"Diagnoza per pacient te ri\")\n",
    "root.configure(bg=\"#f9d6e5\")\n",
    "\n",
    "uniform_width = 20\n",
    "for widget in root.winfo_children():\n",
    "    if isinstance(widget, tk.Label):\n",
    "        widget.config(width=uniform_width)\n",
    "    elif isinstance(widget, (tk.Entry, ttk.Combobox)):\n",
    "        widget.config(width=uniform_width)\n",
    "\n",
    "\n",
    "for widget in root.winfo_children():\n",
    "    if isinstance(widget, tk.Label):\n",
    "        widget.configure(bg=\"#f9d6e5\", fg=\"#000000\", font=(\"Sans Serif\", 12))\n",
    "    elif isinstance(widget, (tk.Entry, ttk.Combobox)):\n",
    "        widget.configure(font=(\"Sans Serif\", 12))\n",
    "    elif isinstance(widget, tk.Button):\n",
    "        widget.configure(bg=\"#800080\", fg=\"#ffffff\", font=(\"Sans Serif\", 12), relief=\"raised\")\n",
    "root.mainloop()"
   ]
  },
  {
   "cell_type": "markdown",
   "id": "1b1ad615",
   "metadata": {},
   "source": []
  }
 ],
 "metadata": {
  "kernelspec": {
   "display_name": "Python 3",
   "language": "python",
   "name": "python3"
  },
  "language_info": {
   "codemirror_mode": {
    "name": "ipython",
    "version": 3
   },
   "file_extension": ".py",
   "mimetype": "text/x-python",
   "name": "python",
   "nbconvert_exporter": "python",
   "pygments_lexer": "ipython3",
   "version": "3.13.3"
  }
 },
 "nbformat": 4,
 "nbformat_minor": 5
}
